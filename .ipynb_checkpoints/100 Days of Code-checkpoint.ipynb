{
 "cells": [
  {
   "cell_type": "markdown",
   "id": "7c6ba330-e651-43b1-9a60-a40c423c2475",
   "metadata": {},
   "source": [
    "# Day-1"
   ]
  },
  {
   "cell_type": "code",
   "execution_count": 4,
   "id": "4df554a3-95a1-4605-b5f5-2dcd9779af75",
   "metadata": {},
   "outputs": [
    {
     "name": "stdout",
     "output_type": "stream",
     "text": [
      "Hello World\n"
     ]
    }
   ],
   "source": [
    "#Python is dynamically typed Object Oriented Programming languge made by Guido Van Russom in 1991\n",
    "# While Working on making python Guido Van Russom was watching python circus show and he thought to give this langauge name as Python \n",
    "#Programming is a way to tell computer what to do\n",
    "#We Use Programming language to talk to computer like C,C++,Java,Python etc\n",
    "#Python is a interpreted high level programming language\n",
    "\n",
    "#Features\n",
    "#Simple\n",
    "#Platform independent : means if you write code on windows and run it on linux it will work\n",
    "#Open source \n",
    "#very big library support\n",
    "#easy to integrate with other programming langauges\n",
    "print(\"Hello World\")"
   ]
  },
  {
   "cell_type": "markdown",
   "id": "79a488f0-ec81-42d6-9e19-ac0f65e316c9",
   "metadata": {},
   "source": [
    "# DAY2"
   ]
  },
  {
   "cell_type": "code",
   "execution_count": 2,
   "id": "aa9d254e-c385-4a99-94db-3fd3a402db0c",
   "metadata": {},
   "outputs": [],
   "source": [
    "#Some Amazing Python Porgrams "
   ]
  },
  {
   "cell_type": "markdown",
   "id": "57c9fd7f-324b-4b03-9c8e-cd4f86412ccd",
   "metadata": {},
   "source": [
    "# DAY3"
   ]
  },
  {
   "cell_type": "code",
   "execution_count": 3,
   "id": "5ddc12ce-88b7-4e03-a587-515ef7ee35a3",
   "metadata": {},
   "outputs": [],
   "source": [
    "#Modules and pip \n",
    "#Modules are used to borrow code witten by somebody else in our python program There are mainly two types of modules in python \n",
    "#Built In Modules\n",
    "#External Modules\n",
    "#Built In modules are available by default in python and we do not have to install them explicitly.\n",
    "#Extrernal Modules are modules which are not available by default in python and we have to install them explicitly by using pip command .\n",
    "#pip is package manager used to install different external modules in python "
   ]
  },
  {
   "cell_type": "markdown",
   "id": "d12a0692-8c91-4717-adf9-aa178d962d57",
   "metadata": {},
   "source": [
    "# DAY4"
   ]
  },
  {
   "cell_type": "code",
   "execution_count": 5,
   "id": "b9e5d1ce-f278-44de-a985-9dc372e59104",
   "metadata": {},
   "outputs": [
    {
     "name": "stdout",
     "output_type": "stream",
     "text": [
      "Hello World\n",
      "5\n",
      "Bye\n"
     ]
    }
   ],
   "source": [
    "print(\"Hello World\")\n",
    "#print() is a built in functions in python used to display anything on the screen after ruuning the program.\n",
    "print(5)\n",
    "print(\"Bye\")\n",
    "#Script means code will be executed line by line "
   ]
  },
  {
   "cell_type": "markdown",
   "id": "9f95ca64-a602-4870-9646-962efe1449b7",
   "metadata": {},
   "source": [
    "# DAY5"
   ]
  },
  {
   "cell_type": "code",
   "execution_count": 6,
   "id": "e2afd1c9-d9d4-4506-bc78-df58b59e3d4d",
   "metadata": {},
   "outputs": [
    {
     "name": "stdout",
     "output_type": "stream",
     "text": [
      "I am Pakistani \n",
      "  and I love Pakistan\n",
      "I am 'Pakistani' \n",
      "  and I love \"Pakistan\"\n",
      "Hey#6#7000"
     ]
    }
   ],
   "source": [
    "#Whenever we write a Program sometime we want that some part of code not excute for that we use comments\n",
    "#Comments are part of code that will not execute at the time of runnung the program\n",
    "#Comments are useful in way that if you write any code today with comments then even if you that code after 6 month you wont find any difficulty in \n",
    "#understanding the code \n",
    "#Comments are also useful when working in project in a team \n",
    "#Comments are mainly of two types \n",
    "# single line comment (#)\n",
    "# multiline comment (\" ''' ''' \") triple quotes\n",
    "#multiline comment is not recomended \n",
    "# short cut for single line comment ctrl+/ \n",
    "\n",
    "#Escape Sequence\n",
    "print(\"I am Pakistani \\n  and I love Pakistan\") #\\n new line \n",
    "print(\"I am \\'Pakistani\\' \\n  and I love \\\"Pakistan\\\"\") #\\\"\"\\ for double quotes\n",
    "\n",
    "# PRINT STATEMENT\n",
    "# Print statement is used to  display message on screen  \n",
    "print(\"Hey\",6,7,sep=\"#\",end=\"000\")\n",
    "# sep=Separator  after every new argument \n",
    "# end=What you want to be in the end of line \n"
   ]
  },
  {
   "cell_type": "markdown",
   "id": "b448221e-a2cb-461c-9405-81d8a7dd9dbc",
   "metadata": {},
   "source": [
    "# DAY6"
   ]
  },
  {
   "cell_type": "code",
   "execution_count": 7,
   "id": "bfb7aadb-b329-4062-b27d-ddc2903cad9f",
   "metadata": {},
   "outputs": [
    {
     "name": "stdout",
     "output_type": "stream",
     "text": [
      "1\n",
      "Huzaifa\n",
      "<class 'int'>\n",
      "<class 'str'>\n",
      "<class 'bool'>\n",
      "<class 'NoneType'>\n"
     ]
    }
   ],
   "source": [
    "#Variables are the containers used to store ,data in variables store in RAM or Varible are containers that holds data very similiar to home kitchen \n",
    "#where container holds sugar ,another container holds rice etc\n",
    "#creating a variable is just like creating a placeholder in memory \n",
    "a=1 #store 1 in memory and its address to  'a' so whenever we use 'a' in our program it will go its address and get the value from there\n",
    "print(a)\n",
    "b=\"Huzaifa\"\n",
    "print(b)\n",
    "#Datatypes can be defined as \"type of data stored in a variable is called as data type it can be string,int,float etc\"\n",
    "a=1 #Integer\n",
    "b=\"Huzaifa\"#String\n",
    "c=True #Boolean\n",
    "d=None #none\n",
    "e=1.1 #float\n",
    "f=complex(8,2) #complex number\n",
    "g=[1,2,3,4,True,\"Hello\"] #list\n",
    "h=(1,2,3,4,5) #tuple\n",
    "h={\"key\":\"value\"} #Dictionary\n",
    "#In Python every thing is object\n",
    "#To Check the type of data we can use type() function\n",
    "print(type(a))\n",
    "print(type(b))\n",
    "print(type(c))\n",
    "print(type(d))\n"
   ]
  },
  {
   "cell_type": "markdown",
   "id": "b0d7681e-1c64-4f00-81b7-fdfe15613665",
   "metadata": {},
   "source": [
    "# DAY 7"
   ]
  },
  {
   "cell_type": "code",
   "execution_count": 9,
   "id": "cfb101aa-76c4-4386-b46d-8052f13856ce",
   "metadata": {},
   "outputs": [
    {
     "name": "stdout",
     "output_type": "stream",
     "text": [
      "15\n",
      "5\n",
      "50\n",
      "2.0\n",
      "3\n",
      "100\n",
      "0\n"
     ]
    },
    {
     "data": {
      "text/plain": [
       "3.3333333333333335"
      ]
     },
     "execution_count": 9,
     "metadata": {},
     "output_type": "execute_result"
    }
   ],
   "source": [
    "# OPERATORS IN PYTHON\n",
    "# Following Arithmetic Operations are mostly performed in Python\n",
    "\n",
    "print(10+5) #Addition\n",
    "print(10-5) #Subraction\n",
    "print(10*5) #Multiplication\n",
    "print(10/5) #Division\n",
    "\n",
    "print(10//3) #Floor Division\n",
    "# Floor Division Operation neglect the decimal point after the result of division \n",
    "# For Example\n",
    "# Using Simple Division \n",
    "# 10/3=3.33\n",
    "# But if we Use Floor Division\n",
    "# 10//3=3  it will not count values after decimal  \n",
    "\n",
    "print(10**2) #Power\n",
    "print(10%5) #Modulus\n",
    "# When  Performing Division remainder is result of Modulus Operator\n",
    "# For Example\n",
    "10/3 \n",
    "# If we divide 10 by 3 it will not completely divide 3x3=9 so 1 will be remainder \n",
    "# So remainder operator will give us remainder of the division \n"
   ]
  },
  {
   "cell_type": "markdown",
   "id": "b9a5e5c7-71b2-47aa-b824-863fc60745b0",
   "metadata": {},
   "source": [
    "# Exercise no 1 "
   ]
  },
  {
   "cell_type": "code",
   "execution_count": 11,
   "id": "8681a4b0-8ce0-4f79-8aac-638eda7a111d",
   "metadata": {},
   "outputs": [
    {
     "name": "stdout",
     "output_type": "stream",
     "text": [
      "Addition 60\n",
      "Subraction -40\n",
      "Multiplication 500\n",
      "Division 0.2\n"
     ]
    }
   ],
   "source": [
    "#Create Simple Calculator Using Python \n",
    "no1=10\n",
    "no2=50\n",
    "print(\"Addition\",no1+no2)\n",
    "print(\"Subraction\",no1-no2)\n",
    "print(\"Multiplication\",no1*no2)\n",
    "print(\"Division\",no1/no2)"
   ]
  },
  {
   "cell_type": "markdown",
   "id": "82d846fa-7eaf-4a01-adf4-cd5cc2462d1c",
   "metadata": {},
   "source": [
    "# DAY8"
   ]
  },
  {
   "cell_type": "code",
   "execution_count": 12,
   "id": "9797fe1d-28de-461f-bc28-bb0c6fcc93f6",
   "metadata": {},
   "outputs": [],
   "source": [
    "#Solution to Exercise 1"
   ]
  },
  {
   "cell_type": "markdown",
   "id": "e429a714-bd6b-421f-9557-081cf702178c",
   "metadata": {},
   "source": [
    "# DAY 9 (TYPE CASTING)"
   ]
  },
  {
   "cell_type": "code",
   "execution_count": 1,
   "id": "d6c23404-84ab-4405-ae0e-5330c0cfb7f4",
   "metadata": {},
   "outputs": [
    {
     "name": "stdout",
     "output_type": "stream",
     "text": [
      "30\n",
      "27.0\n",
      "3.0\n",
      "4\n",
      "4.6\n",
      "3\n",
      "27\n"
     ]
    }
   ],
   "source": [
    "#Type Casting \n",
    "#For Example we have write number in double quotes ,so it is string and we add 3 into it ,python will through an error \n",
    "#that it can't add integer to string here the concept of type casting came that convert of one data type into other \n",
    "# a=\"27\"\n",
    "# b=3\n",
    "# print(a+b)\n",
    "\n",
    "a=\"27\"\n",
    "b=3\n",
    "c=4.6\n",
    "print(int(a)+b) #Here we add convert string into integer by using   int() function\n",
    "#String to float\n",
    "print(float(a))\n",
    "#Integer to float\n",
    "print(float(b))\n",
    "#float to Integer\n",
    "print(int(c))\n",
    "#float to String\n",
    "print(str(c))\n",
    "#Integer to String\n",
    "print(str(b))\n",
    "#String to Integer\n",
    "print(int(a))\n",
    "\n",
    "# There are two types of Type Casting \n",
    "# Explict Typecasting (Typecasting done by developer or programmer)\n",
    "# Implicit Typecasting:Typecasting done by python automatically accroding to priority levels like if add 3 to 3.9 it will give us 6.9 which \n",
    "# is float number\n"
   ]
  },
  {
   "cell_type": "markdown",
   "id": "8d773c1f-1470-4f50-a4b2-07a144c50d21",
   "metadata": {},
   "source": [
    "# DAY10 (USER INPUT)"
   ]
  },
  {
   "cell_type": "code",
   "execution_count": 4,
   "id": "d1deee97-3cd6-48b7-8794-751179dea379",
   "metadata": {},
   "outputs": [
    {
     "name": "stdout",
     "output_type": "stream",
     "text": [
      "Enter Your Name ABC\n"
     ]
    },
    {
     "name": "stdout",
     "output_type": "stream",
     "text": [
      "<class 'str'>\n"
     ]
    },
    {
     "name": "stdout",
     "output_type": "stream",
     "text": [
      "Enter Number 2\n"
     ]
    },
    {
     "name": "stdout",
     "output_type": "stream",
     "text": [
      "<class 'int'>\n"
     ]
    },
    {
     "name": "stdout",
     "output_type": "stream",
     "text": [
      "Enter Floating Number 2.5\n"
     ]
    },
    {
     "name": "stdout",
     "output_type": "stream",
     "text": [
      "<class 'float'>\n"
     ]
    }
   ],
   "source": [
    "#Userinput in Python can be taken by using input() function by default it takes string input which can be converted into \n",
    "#diferent data types as per the requirement \n",
    "inp1=input(\"Enter Your Name\")\n",
    "print(type(inp1))\n",
    "#Integer Input\n",
    "inp2=int(input(\"Enter Number\"))\n",
    "print(type(inp2))\n",
    "#Float Input\n",
    "inp3=float(input(\"Enter Floating Number\"))\n",
    "print(type(inp3))"
   ]
  },
  {
   "cell_type": "markdown",
   "id": "cc177314-9275-44de-b972-a79ae09997c4",
   "metadata": {},
   "source": [
    "# DAY11 (STRINGS)"
   ]
  },
  {
   "cell_type": "code",
   "execution_count": 9,
   "id": "6bdfe842-5c1b-46c2-b84e-a68ac4ac8074",
   "metadata": {},
   "outputs": [
    {
     "name": "stdout",
     "output_type": "stream",
     "text": [
      "He said \"he had eat an apple\"\n",
      "Hello I am Huzaifa\n",
      "I am Programming in Python\n",
      "\n",
      "H\n",
      "a\n",
      "H\n",
      "H\n",
      "u\n",
      "z\n",
      "a\n",
      "i\n",
      "f\n",
      "a\n",
      "True\n"
     ]
    }
   ],
   "source": [
    "#Strings in Python\n",
    "#Strings can be made by enclosing any value b/w quotes\n",
    "#Strings are an array of textual data \n",
    "#Strings are used when working with Unicode characters\n",
    "name=\"Huzaifa\"\n",
    "#Double quotes in strings\n",
    "txt='He said \"he had eat an apple\"'\n",
    "print(txt)\n",
    "#Multiline Strings\n",
    "mulstr='''Hello I am Huzaifa\n",
    "I am Programming in Python\n",
    "'''\n",
    "print(mulstr)\n",
    "#String follows indexing which starts from 0\n",
    "#name= \" H  U  Z  A  I  F  A\"\n",
    "#name= \" 0  1  2  3  4  5  6\"\n",
    "print(name[0])\n",
    "print(name[6])\n",
    "\n",
    "#In the above example we can see that last index no is 6 but if we \n",
    "#try print(name[7]) it will through an index error which means nothing found at index 7\n",
    "\n",
    "#Negative Indexing can also be used which starts from -1\n",
    "#name= \" H  U  Z  A  I  F  A\"\n",
    "#name= \"-7 -6 -5 -4 -3 -2 -1\"\n",
    "print(name[-7])\n",
    "\n",
    "#for loop in Strings\n",
    "for i in name:\n",
    "    print(i)\n",
    "\n",
    "#using 'in' keyword in string to test the conditio\n",
    "print(\"Python\" in mulstr)"
   ]
  },
  {
   "cell_type": "markdown",
   "id": "6d23c534-602f-4fc9-b0e5-371147226c7f",
   "metadata": {},
   "source": [
    "# DAY12 (STRING SLICING)"
   ]
  },
  {
   "cell_type": "code",
   "execution_count": 18,
   "id": "29e7f738-caab-49ba-85d8-f49c49d7ff81",
   "metadata": {},
   "outputs": [
    {
     "name": "stdout",
     "output_type": "stream",
     "text": [
      "17\n",
      "Apple\n",
      "Apple\n",
      "Apple,Mango,Melon\n",
      "Mango,Melon\n",
      "Mango\n",
      "Mango\n"
     ]
    }
   ],
   "source": [
    "#To find length of string we use len() function\n",
    "str=\"Apple,Mango,Melon\"\n",
    "print(len(str))\n",
    "#Slicing\n",
    "#Retriving specific sequence of String from original string is called slining for example\n",
    "#str [ 0            :    5      ]\n",
    "#str[starting index:ending index]   \n",
    "print(str[0:5])\n",
    "#here in the above example we can see that 5 characters are printed slicing will not include the last index \n",
    "# a p p l e \n",
    "# 0 1 2 3 4\n",
    "#Apple has index starting from 0 and ending at 4 but to print whole word we need to mention end point + 1 index\n",
    "#Even if we don't mention the starting index in slicing it will considered that starting index is 0\n",
    "print(str[:5])\n",
    "#If we dont mention both starting and ending index python will add 0 starting location go till the end\n",
    "print(str[:])\n",
    "#If we dont add ending position then python will considered it to till end \n",
    "print(str[6:])\n",
    "\n",
    "#Same as Negative indexing n,negiative slicing can also be done \n",
    "print(str[-11:-6])\n",
    "#str[len(str)-11:len(str)-6]\n",
    "#str[17-11:17-6]\n",
    "#str[6:11]\n",
    "#Here is how we retrive the fruit name mango from string \n",
    "print(str[6:11]) #By using Simple Slicing "
   ]
  },
  {
   "cell_type": "markdown",
   "id": "b5a3f099-218b-4ebc-ad9b-d3b761a5066c",
   "metadata": {},
   "source": [
    "# DAY 13 (STRING METHODS)"
   ]
  },
  {
   "cell_type": "code",
   "execution_count": 1,
   "id": "b033103d-3f2b-490c-9b58-5c030e4ae58f",
   "metadata": {},
   "outputs": [
    {
     "name": "stdout",
     "output_type": "stream",
     "text": [
      "14\n",
      "ALI IS GOOD @@\n",
      "ali is good @@\n",
      "Ali is good \n",
      "Ali is good !!\n",
      "['Ali', 'is', 'good', '@@']\n",
      "Ali is good @@\n",
      "                  Ali is good @@                  \n",
      "2\n",
      "True\n",
      "False\n",
      "4\n",
      "4\n",
      "False\n",
      "False\n",
      "False\n",
      "False\n",
      "True\n",
      "False\n",
      "False\n",
      "False\n",
      "aLI IS GOOD @@\n",
      "Ali Is Good @@\n"
     ]
    }
   ],
   "source": [
    "#String Methods\n",
    "a=\"Ali is good @@\"\n",
    "print(len(a)) #returns length of String\n",
    "#Strings are immutable and cannot be changed\n",
    "print(a.upper()) #returns new string into uppercase\n",
    "print(a.lower()) #returns new String into lowercase\n",
    "print(a.rstrip(\"@\"))#returns new string and remove special chars from the end of string\n",
    "print(a.replace(\"@\",\"!\"))#returns new string and replace all occurance of mentioned string with desired string\n",
    "print(a.split(\" \"))#split the string and returns list\n",
    "print(a.capitalize()) #return new string and capitalize first letter of the string\n",
    "print(a.center(50)) #Add Spaces to the String\n",
    "print(a.count(\"@\")) #returns no of occurances of any char / word\n",
    "print(a.endswith(\"@\")) #returns true or false \n",
    "print(a.endswith(\"a\",0,7)) #returns true or false \n",
    "print(a.find(\"is\"))#retruns index of the first occurance of string and returns -1 if not found\n",
    "print(a.index(\"is\"))#retruns index of the first occurance of string and returns error if not found\n",
    "print(a.isalnum())#if the string is Alphanumeric (A-Z,a-z,0-9)\n",
    "print(a.isalpha())#i the string is numeric (A-Z,a-z)\n",
    "print(a.islower()) # if all the chars are in lowercase\n",
    "print(a.isupper()) # if all the chars are in uppercase\n",
    "print(a.isprintable())#Non Printable chars : escape chars like \\n ,\\t\n",
    "print(a.isspace())#if string contains wide spaces\n",
    "print(a.istitle())# if the first letter is capital\n",
    "print(a.startswith(\"h\"))#returns true or false\n",
    "print(a.swapcase())#convert to uppercase if the string is in lowercase or vice verse\n",
    "print(a.title())#Convert first letter of each word to uppercase\n"
   ]
  },
  {
   "cell_type": "markdown",
   "id": "fb638598-e3c5-4eb8-8eb9-cdca67f90c76",
   "metadata": {},
   "source": [
    "# DAY14 (if-else)"
   ]
  },
  {
   "cell_type": "code",
   "execution_count": 19,
   "id": "12314e7b-51df-4b9b-bb9c-df454a623281",
   "metadata": {},
   "outputs": [
    {
     "name": "stdout",
     "output_type": "stream",
     "text": [
      "Enter number 2\n"
     ]
    },
    {
     "name": "stdout",
     "output_type": "stream",
     "text": [
      "False\n",
      "True\n",
      "False\n",
      "True\n",
      "False\n",
      "True\n",
      "else block\n",
      "Out of Else\n",
      "Positive Number\n"
     ]
    },
    {
     "name": "stdout",
     "output_type": "stream",
     "text": [
      "Enter Number 4\n"
     ]
    },
    {
     "name": "stdout",
     "output_type": "stream",
     "text": [
      "You Entered Number b/w 1-10\n"
     ]
    }
   ],
   "source": [
    "#if we want to take any decesions using programming we use conditional statement ,In Python condtional statements are if,else,elif\n",
    "#condtional operators\n",
    "# >,<,>=,<=,!=,==\n",
    "no=int(input(\"Enter number\"))\n",
    "print(no>18)#greator then \n",
    "print(no<18)#less then \n",
    "print(no>=18)#greator thento or euqal  \n",
    "print(no<=18)#less then or equals to \n",
    "print(no==18)#Equals to \n",
    "print(no!=18)#Not Equals to\n",
    "if no>18:\n",
    "    print(\"if block\")\n",
    "else:\n",
    "    print(\"else block\")\n",
    "#In the above program if have given no condtion that if no is greator than 18 then if block will execute otherwise else block will execute\n",
    "print(\"Out of Else\")\n",
    "\n",
    "#Sometimes we had multiple conditions to test ,In these scanrios we elif \n",
    "if no>0:\n",
    "    print(\"Positive Number\")\n",
    "elif no<0:\n",
    "    print(\"Negative Number\")\n",
    "else:\n",
    "    print(\"Zero Entered\")\n",
    "#We can add multiple elif as per the requirements\n",
    "\n",
    "#Nested if-else :using if condition with in if condition\n",
    "no1=int(input(\"Enter Number\"))\n",
    "if no1<0:\n",
    "    print(\"Negative Number\")\n",
    "elif no1>0:\n",
    "    if no1<=10:\n",
    "        print(\"You Entered Number b/w 1-10\")\n",
    "    elif no1>10 and no1<=20:\n",
    "        print(\"You Entered Number b/w 11-20\")\n",
    "    else:\n",
    "        print(\"Number is greator than 20\")\n",
    "else:\n",
    "    print(\"You Entered 0\")"
   ]
  },
  {
   "cell_type": "markdown",
   "id": "0f00fe05-0d1b-4f57-a4b6-43b19a2cdf06",
   "metadata": {},
   "source": [
    "# DAY15 (Exercise 2)"
   ]
  },
  {
   "cell_type": "code",
   "execution_count": 41,
   "id": "c0d7e9cf-6094-41e9-ba6a-4600c888c23c",
   "metadata": {},
   "outputs": [
    {
     "name": "stdout",
     "output_type": "stream",
     "text": [
      "18\n",
      "Good Evening\n"
     ]
    }
   ],
   "source": [
    "#Greet user Good Morning ,Good After noon ,Good Evening or Good Night as per time\n",
    "import time\n",
    "#For the Unix system, January 1, 1970, 00:00:00 at UTC is epoch.\n",
    "s=time.time() #returns no of seconds from 1970 \n",
    "local_time=time.ctime(s)\n",
    "hour=local_time[11:13]\n",
    "hour=int(hour)\n",
    "print(hour)\n",
    "if hour>=0 and hour <5:\n",
    "    print(\"Good Night\")\n",
    "elif hour>=5 and hour<12:\n",
    "    print(\"Good Morining\")\n",
    "elif hour>12 and hour <15:\n",
    "    print(\"Good After Noon\")\n",
    "else:\n",
    "    print(\"Good Evening\")"
   ]
  },
  {
   "cell_type": "code",
   "execution_count": 42,
   "id": "cce301af-4f00-480b-9971-327f8b4c1746",
   "metadata": {},
   "outputs": [
    {
     "name": "stdout",
     "output_type": "stream",
     "text": [
      "18:56:00\n",
      "18\n",
      "56\n",
      "00\n"
     ]
    }
   ],
   "source": [
    "import time\n",
    "timestamp = time.strftime('%H:%M:%S')\n",
    "print(timestamp)\n",
    "timestamp = time.strftime('%H')\n",
    "print(timestamp)\n",
    "timestamp = time.strftime('%M')\n",
    "print(timestamp)\n",
    "timestamp = time.strftime('%S')\n",
    "print(timestamp)\n",
    "# https://docs.python.org/3/library/time.html#time.strftime"
   ]
  },
  {
   "cell_type": "markdown",
   "id": "06103989-c9e9-4806-8265-f6deac3da1cf",
   "metadata": {},
   "source": [
    "# DAY 16 (MATCH CASE)"
   ]
  },
  {
   "cell_type": "code",
   "execution_count": 4,
   "id": "e36e0b72-f94a-4f58-885a-dbcb663b7f94",
   "metadata": {},
   "outputs": [
    {
     "name": "stdout",
     "output_type": "stream",
     "text": [
      "Enter Operation you want to perform *\n",
      "Enter Number 1 4\n",
      "Enter Number 2 6\n"
     ]
    },
    {
     "name": "stdout",
     "output_type": "stream",
     "text": [
      "4 * 6 = 24\n"
     ]
    }
   ],
   "source": [
    "#In Python we have Match case which is a advance addition in Python ,it was released in Python 10 previous versions dont support\n",
    "#this match case.\n",
    "#match case is like switch case which is used in many other programming languages like java,C,C++,JS etc\n",
    "#switch and match case almost work same but there is small difference which is ,In swich case we need 'break' statement to stop other cases to execute \n",
    "#but in match case we dont need break statemnent it will only execute the case which match the condition\n",
    "opr=input(\"Enter Operation you want to perform\")\n",
    "no1=int(input(\"Enter Number 1\"))\n",
    "no2=int(input(\"Enter Number 2\"))\n",
    "match opr:\n",
    "    case \"+\":\n",
    "        print(no1,\"+\",no2,\"=\",no1+no2)\n",
    "    case \"-\":\n",
    "        print(no1,\"-\",no2,\"=\",no1-no2)\n",
    "    case \"*\":\n",
    "        print(no1,\"*\",no2,\"=\",no1*no2)\n",
    "    case \"/\":\n",
    "        print(no1,\"/\",no2,\"=\",no1/no2)\n",
    "    case _: #Default case which will executed in case no condition matches\n",
    "        print(\"Invalid Operations Entered\")"
   ]
  },
  {
   "cell_type": "code",
   "execution_count": 7,
   "id": "98fa3628-9b34-4198-b4c7-7e1a20118260",
   "metadata": {},
   "outputs": [
    {
     "name": "stdout",
     "output_type": "stream",
     "text": [
      "Enter characher v\n"
     ]
    },
    {
     "name": "stdout",
     "output_type": "stream",
     "text": [
      "You Entered Non Vowel Aplabet\n"
     ]
    }
   ],
   "source": [
    "chr=input(\"Enter characher\")\n",
    "match chr:\n",
    "    case \"A\"|\"a\"|\"E\"|\"e\"|\"I\"|\"i\"|\"O\"|\"o\"|\"U\"|\"u\":\n",
    "        print(\"You Entered Vowel Alphabet\")\n",
    "    case _:\n",
    "        print(\"You Entered Non Vowel Aplabet\")"
   ]
  },
  {
   "cell_type": "code",
   "execution_count": 10,
   "id": "354a170e-5d31-46c5-a8f8-a8a3d4f796da",
   "metadata": {},
   "outputs": [
    {
     "name": "stdout",
     "output_type": "stream",
     "text": [
      "Enter Number 0\n"
     ]
    },
    {
     "name": "stdout",
     "output_type": "stream",
     "text": [
      "ZERO ENTERED\n"
     ]
    }
   ],
   "source": [
    "no=int(input(\"Enter Number\"))\n",
    "match no:\n",
    "    case no if no>0:\n",
    "        print(\"POSITIVE NUMBER ENTERED\")\n",
    "    case no if no<0:\n",
    "        print(\"NEGAIVE NO ENTERED\")\n",
    "    case _:\n",
    "        print(\"ZERO ENTERED\")"
   ]
  },
  {
   "cell_type": "markdown",
   "id": "832c86c0-3a6e-487d-8450-5fcb29df625a",
   "metadata": {},
   "source": [
    "# DAY17 (FOR LOOP)"
   ]
  },
  {
   "cell_type": "code",
   "execution_count": 13,
   "id": "109e7795-2a9c-40ff-be11-3f63d50d90c4",
   "metadata": {},
   "outputs": [
    {
     "name": "stdout",
     "output_type": "stream",
     "text": [
      "1\n",
      "2\n",
      "3\n",
      "4\n",
      "5\n",
      "6\n",
      "7\n",
      "8\n",
      "9\n",
      "10\n"
     ]
    }
   ],
   "source": [
    "#In programming sometimes we need to perform some tasks repitatively for this purpose we use loops which helps us in performing tasks repitatively\n",
    "#if we want to print no from 1 to 10 and we started performing this task using print() function so it will take time and consume lots of lines of code \n",
    "#but in comparision if we use for loop for this tasks we can perform this task using only 2-3 lines of code\n",
    "#there are two main types of loops in python \n",
    "#1 for loop\n",
    "#2 while loop\n",
    "\n",
    "#printing no from 1 to 10 without loop\n",
    "print(1)\n",
    "print(2)\n",
    "print(3)\n",
    "print(4)\n",
    "print(5)\n",
    "print(6)\n",
    "print(7)\n",
    "print(8)\n",
    "print(9)\n",
    "print(10)"
   ]
  },
  {
   "cell_type": "code",
   "execution_count": 12,
   "id": "0100a933-4869-4eef-81ce-9411b2dcb48a",
   "metadata": {},
   "outputs": [
    {
     "name": "stdout",
     "output_type": "stream",
     "text": [
      "1\n",
      "2\n",
      "3\n",
      "4\n",
      "5\n",
      "6\n",
      "7\n",
      "8\n",
      "9\n",
      "10\n"
     ]
    }
   ],
   "source": [
    "#printing no from 1-10 using loop\n",
    "for i in range(1,11):\n",
    "    print(i)"
   ]
  },
  {
   "cell_type": "code",
   "execution_count": 14,
   "id": "1f96f96a-6e2d-4d6a-96aa-dcb6c2a181df",
   "metadata": {},
   "outputs": [
    {
     "name": "stdout",
     "output_type": "stream",
     "text": [
      "H\n",
      "u\n",
      "z\n",
      "a\n",
      "i\n",
      "f\n",
      "a\n"
     ]
    }
   ],
   "source": [
    "#We can also iterate over string \n",
    "name=\"Huzaifa\"\n",
    "for i in name:\n",
    "    print(i)"
   ]
  },
  {
   "cell_type": "code",
   "execution_count": 15,
   "id": "3d0cc57b-a742-4c76-8644-fd6d7c1b0d8d",
   "metadata": {},
   "outputs": [
    {
     "name": "stdout",
     "output_type": "stream",
     "text": [
      "mango\n",
      "apple\n",
      "melon\n"
     ]
    }
   ],
   "source": [
    "#iterating over list\n",
    "fruits=[\"mango\",\"apple\",\"melon\"]\n",
    "for fruit in fruits:\n",
    "    print(fruit)"
   ]
  },
  {
   "cell_type": "code",
   "execution_count": 16,
   "id": "25aca267-2f91-4d89-8b2f-4e54957825dd",
   "metadata": {},
   "outputs": [
    {
     "name": "stdout",
     "output_type": "stream",
     "text": [
      "mango\n",
      "m\n",
      "a\n",
      "n\n",
      "g\n",
      "o\n",
      "apple\n",
      "a\n",
      "p\n",
      "p\n",
      "l\n",
      "e\n",
      "melon\n",
      "m\n",
      "e\n",
      "l\n",
      "o\n",
      "n\n"
     ]
    }
   ],
   "source": [
    "#We can also add loop with in loop\n",
    "for fruit in fruits:\n",
    "    print(fruit)\n",
    "    for i in fruit:\n",
    "        print(i)"
   ]
  },
  {
   "cell_type": "code",
   "execution_count": 22,
   "id": "bbb7c3b0-5e83-49bf-89af-63149f016e32",
   "metadata": {},
   "outputs": [
    {
     "name": "stdout",
     "output_type": "stream",
     "text": [
      "h\n",
      "u\n",
      "z\n",
      "a\n",
      "a is entered 1 times\n",
      "i\n",
      "f\n",
      "a\n",
      "a is entered 2 times\n"
     ]
    }
   ],
   "source": [
    "#we can also use if inside the loop\n",
    "no=\"huzaifa\"\n",
    "j=0\n",
    "for i in no:\n",
    "    print(i)\n",
    "    if i==\"a\":\n",
    "        j+=1\n",
    "        print(f\"a is entered {j} times\")"
   ]
  },
  {
   "cell_type": "code",
   "execution_count": 24,
   "id": "5859e091-61a3-4173-a298-f6845face8e6",
   "metadata": {},
   "outputs": [
    {
     "name": "stdout",
     "output_type": "stream",
     "text": [
      "0\n",
      "2\n",
      "4\n",
      "6\n",
      "8\n"
     ]
    }
   ],
   "source": [
    "#there is a function range() which takes 3 parameters starting,ending,step here step is no of counts you want to skip\n",
    "#Step is basically an difference between the first number and last number it may be varied as per the user .\n",
    "for i in range(0,10,2):\n",
    "    print(i) "
   ]
  },
  {
   "cell_type": "markdown",
   "id": "66cfda99-5a2d-4753-be95-cc4660511dfa",
   "metadata": {},
   "source": [
    "# DAY18 (WHILE LOOP)"
   ]
  },
  {
   "cell_type": "code",
   "execution_count": 22,
   "id": "7640f85d-5da0-46d5-bd26-f6a343ce2e89",
   "metadata": {},
   "outputs": [
    {
     "name": "stdout",
     "output_type": "stream",
     "text": [
      "Using For loop\n",
      "0\n",
      "1\n",
      "2\n",
      "Using while loop\n",
      "0\n",
      "1\n",
      "2\n"
     ]
    }
   ],
   "source": [
    "#Same as for loop there is another loop used in python which is while loop \n",
    "#printinmg no 1-3 using for loop\n",
    "print(\"Using For loop\")\n",
    "for i in range(3):\n",
    "    print(i)\n",
    "print(\"Using while loop\")\n",
    "i=0\n",
    "while i<3:\n",
    "    print(i)\n",
    "    i=i+1\n",
    "#If we had given any wrong condtion in loop it may become an infinite loop means an loop that has no condtion to stop\n"
   ]
  },
  {
   "cell_type": "code",
   "execution_count": 8,
   "id": "5ce6ac98-78e1-409a-bfe5-5614ef592486",
   "metadata": {},
   "outputs": [
    {
     "name": "stdout",
     "output_type": "stream",
     "text": [
      "5\n",
      "4\n",
      "3\n",
      "2\n",
      "1\n"
     ]
    }
   ],
   "source": [
    "#Decrement loop\n",
    "i=5\n",
    "while i>0:\n",
    "    print(i)\n",
    "    i=i-1"
   ]
  },
  {
   "cell_type": "code",
   "execution_count": 21,
   "id": "e0b4aa29-a4c6-4087-81e1-1d92b23fd540",
   "metadata": {},
   "outputs": [
    {
     "name": "stdout",
     "output_type": "stream",
     "text": [
      "6\n",
      "*****NUMBER GUESSING GAME******\n",
      "You have 5 chances to gusess the number\n"
     ]
    },
    {
     "name": "stdin",
     "output_type": "stream",
     "text": [
      "This is your 1 Number chance 6\n"
     ]
    },
    {
     "name": "stdout",
     "output_type": "stream",
     "text": [
      "You Win\n"
     ]
    }
   ],
   "source": [
    "import random\n",
    "rand=random.randint(1,10)\n",
    "print(rand)\n",
    "print(\"*****NUMBER GUESSING GAME******\")\n",
    "print(\"You have 5 chances to gusess the number\")\n",
    "Try=1\n",
    "while Try<=5:\n",
    "    no=int(input(f\"This is your {Try} Number chance\"))\n",
    "    if no==rand:\n",
    "        print(\"You Win\")\n",
    "        break\n",
    "    else:\n",
    "        print(\"You lose\")\n",
    "    Try=Try+1"
   ]
  },
  {
   "cell_type": "code",
   "execution_count": 24,
   "id": "4f1c358a-a4e4-45d3-b512-c9811eb141b7",
   "metadata": {},
   "outputs": [
    {
     "name": "stdout",
     "output_type": "stream",
     "text": [
      "0\n",
      "1\n",
      "2\n",
      "3\n",
      "This is else\n"
     ]
    }
   ],
   "source": [
    "#We can also use else in while loop which will be executed in case conditions in while loop become false\n",
    "i=0\n",
    "while i<4:\n",
    "    print(i)\n",
    "    i=i+1\n",
    "else:\n",
    "    print(\"This is else\")"
   ]
  },
  {
   "cell_type": "markdown",
   "id": "024a5809-6286-4569-930b-8dc8f79574f3",
   "metadata": {},
   "source": [
    "# DAY19 (BREAK & CONTINUE STATEMENT)"
   ]
  },
  {
   "cell_type": "code",
   "execution_count": 28,
   "id": "4e88f46a-d577-4493-92bd-0d2fa3447621",
   "metadata": {},
   "outputs": [
    {
     "name": "stdout",
     "output_type": "stream",
     "text": [
      "0\n",
      "1\n",
      "2\n",
      "3\n",
      "4\n",
      "continue stattment\n",
      "0\n",
      "1\n",
      "2\n",
      "3\n",
      "4\n",
      "6\n",
      "7\n",
      "8\n",
      "9\n"
     ]
    }
   ],
   "source": [
    "#Sometimes while using loops we want to stop our loop after attaining specific condition,for this purpose we use break statement\n",
    "#In the same way sometime we want to skip any step while running loop then we use continue statement \n",
    "#These break & continue statement can be used in both for & while loop\n",
    "\n",
    "#Using break \n",
    "for i in range(10):\n",
    "    if i==5:\n",
    "        break\n",
    "    else:\n",
    "        print(i)\n",
    "#In the above code we have given condition that code should be run till 10 but it breaks after after getting i==5 due to if condition in the code\n",
    "\n",
    "#Using continue \n",
    "print(\"continue stattment\")\n",
    "for i in range(10):\n",
    "    if i==5:\n",
    "        continue\n",
    "    else:\n",
    "        print(i)\n",
    "#Using continue statement it skips step when value of i get to 5 and continue the loop after i values get 6 "
   ]
  },
  {
   "cell_type": "markdown",
   "id": "4987c3aa-a88f-4ac7-9046-7a399d944f22",
   "metadata": {},
   "source": [
    "# DAY20 (FUNCTIONS)"
   ]
  },
  {
   "cell_type": "code",
   "execution_count": 4,
   "id": "bca9e134-84ce-4837-b017-d839acf8e586",
   "metadata": {},
   "outputs": [
    {
     "name": "stdout",
     "output_type": "stream",
     "text": [
      "8\n"
     ]
    }
   ],
   "source": [
    "#Sometimes while writing the code we want some lines of code to be used in the multiple places in the program ,for this purpose we write functions\n",
    "#In functions we write the code just once and can be called whereever it will be needed in the program \n",
    "#For example we want add two variables at more than 10 places in our program for this purpose we can done this by  write the code \n",
    "#for adding two variables at 15 different places or we can write the function for adding the variable and call it when requried \n",
    "\n",
    "#function definition\n",
    "def add(a,b):\n",
    "#add is the name of the function \n",
    "#here 'a' & 'b' are the parameters means values functions will accept at the time of calling\n",
    "    print(a+b)\n",
    "\n",
    "#function calling \n",
    "add(3,5) #here 3 & 5 are the arguments\n",
    "\n",
    "#In some cases we want that we just define the fucntion and write the logic of the function in the some other time for this we can use keyword pass \n",
    "\n",
    "def oddEven(e):\n",
    "    pass #Now Error will not be raised when executing the program \n",
    "\n",
    "#In Python we have two types of functions \n",
    "#Built In functions : functions available in python to use like print(),range(),for(),min(),max() etc \n",
    "#User defined functions :functions written by user as per the needs of the program\n"
   ]
  },
  {
   "cell_type": "markdown",
   "id": "08952ef6-2b3b-4158-b862-6becfaeb3ccb",
   "metadata": {},
   "source": [
    "# DAY21 (FUNCTION ARGUMENTS)"
   ]
  },
  {
   "cell_type": "code",
   "execution_count": 15,
   "id": "8566277a-28dc-4117-85d9-d1a10acd2437",
   "metadata": {},
   "outputs": [
    {
     "name": "stdout",
     "output_type": "stream",
     "text": [
      "Multiplication is:12\n",
      "Multiplication is:27\n",
      "Multiplication is:16\n",
      "Multiplication is:33\n"
     ]
    }
   ],
   "source": [
    "#There are 4 types of arguments that we can pass to the functions \n",
    "\n",
    "#Default Argument passed at time of declaration \n",
    "def Mult(a=3,b=4):\n",
    "    print(F\"Multiplication is:{a*b}\")\n",
    "#As we have already provide values in the function declaration time so it did nt through any error\n",
    "#function calling \n",
    "Mult()\n",
    "#But if we passed value at the time of calling the function it will prioritize these values apart from default values passed\n",
    "Mult(3,9)\n",
    "Mult(4) #if we passed only one value at time of calling it will take first value from here and another default value \n",
    "Mult(b=11) #if want to pass second value and want that first value can be default value we can pass value by naming second arg name here b and pass value to that"
   ]
  },
  {
   "cell_type": "code",
   "execution_count": 9,
   "id": "5debfcb0-28f0-4b3a-a9e9-63e000d4f3b0",
   "metadata": {},
   "outputs": [
    {
     "name": "stdout",
     "output_type": "stream",
     "text": [
      "Name:Huzaifa\n"
     ]
    }
   ],
   "source": [
    "#Requrired Argument that need to passed at time of calling the function ,if not passed error will be raised\n",
    "def printName(n):\n",
    "    print(f\"Name:{n}\")\n",
    "\n",
    "printName(\"Huzaifa\")"
   ]
  },
  {
   "cell_type": "code",
   "execution_count": 17,
   "id": "7550b9a4-c6af-42f7-81d3-24cb746eb828",
   "metadata": {},
   "outputs": [
    {
     "name": "stdout",
     "output_type": "stream",
     "text": [
      "Subraction:4\n",
      "Subraction:-28\n"
     ]
    }
   ],
   "source": [
    "#Keyword Argument \n",
    "def Subract(a,b):\n",
    "    print(f\"Subraction:{a-b}\")\n",
    "Subract(9,5) #by Default it will consider first value as the value of a and second value as the value of b\n",
    "Subract(b=40,a=12) #if we pass the value by name of the parameter we dont need to care about the order like here we have given the value of b first and value of a after that "
   ]
  },
  {
   "cell_type": "code",
   "execution_count": 29,
   "id": "f2a28f23-76aa-478e-bdf9-c479ea7c357e",
   "metadata": {},
   "outputs": [
    {
     "name": "stdout",
     "output_type": "stream",
     "text": [
      "28\n"
     ]
    }
   ],
   "source": [
    "# Variable-length arguments:\n",
    "# Sometimes we may need to pass more arguments than those defined in the actual function. This can be done using variable-length arguments.\n",
    "def Sum(*num):\n",
    "    sum=0\n",
    "    for i in num:\n",
    "        sum=sum+i\n",
    "    print(sum)\n",
    "Sum(5,6,8,9)"
   ]
  },
  {
   "cell_type": "code",
   "execution_count": 37,
   "id": "e91f342c-1a14-4b7a-95ae-319d4f6305e8",
   "metadata": {},
   "outputs": [
    {
     "name": "stdout",
     "output_type": "stream",
     "text": [
      "625\n"
     ]
    }
   ],
   "source": [
    "#return \n",
    "def product(*n):\n",
    "    prod=1\n",
    "    for i in n:\n",
    "        prod=prod*i\n",
    "    return prod\n",
    "ans=product(5,5,5,5)\n",
    "print(ans)"
   ]
  },
  {
   "cell_type": "markdown",
   "id": "acbdfa30-941e-4628-b86c-6a6242cf2f3d",
   "metadata": {},
   "source": [
    "# DAY22 (LIST)"
   ]
  },
  {
   "cell_type": "code",
   "execution_count": 27,
   "id": "186f3d15-45b0-44c7-b400-88df48638b9e",
   "metadata": {},
   "outputs": [
    {
     "name": "stdout",
     "output_type": "stream",
     "text": [
      "<class 'list'>\n",
      "6\n",
      "34\n",
      "12\n",
      "True\n",
      "[1, 2, 3, 6]\n",
      "[1, 2, 3, 6, 4, 2, 9, 0, 12, 34, 55, 77]\n",
      "[1, 2, 3, 6]\n",
      "[1, 2, 3, 6]\n",
      "[1, 2, 3, 6, 4, 2, 9, 0, 12, 34, 55]\n",
      "[1, 3]\n",
      "[0, 1, 2, 3, 4, 5, 6, 7, 8, 9]\n",
      "[0, 2, 4, 6, 8]\n",
      "['Huzaifa', 'Hanzala', 'Hamza']\n"
     ]
    }
   ],
   "source": [
    "#List are ordered collection of data stored in single variable .List items are separated by commas and enclosed b/w square brackets\n",
    "#List are muteable means they can be changed after creation \n",
    "\n",
    "l1=[1,2,3,6,4,2,9,0,12,34,55,77] #list of numbers\n",
    "print(type(l1)) #checking the type of list\n",
    "#List items can accessed by index same as string both negative and positive indexing can be used in list\n",
    "print(l1[3]) #accessing list item by positve indexing\n",
    "print(l1[-3]) #accessing list item by negative indexing\n",
    "\n",
    "#We can also create list which contain items of different data types \n",
    "mix_list=[1,5.9,\"Hello\",True]\n",
    "\n",
    "#length of list can be find by using len()\n",
    "print(len(l1))\n",
    "\n",
    "#using 'in' keyword to check if items in the list\n",
    "print(12 in l1) #return true or falso as per the condition\n",
    "\n",
    "#list slicing\n",
    "print(l1[0:4]) #return list having from index 0 to 3\n",
    "print(l1[0:]) #if we give start and dont give ending index the list will printed from starting index till the end\n",
    "print(l1[:4]) #if we give end index and dont give starting index the list will printed from starting index til the index no mentioned\n",
    "\n",
    "#Negative Slicing\n",
    "print(l1[-12:-8])\n",
    "\n",
    "#Using Positive and Negaive indexing \n",
    "print(l1[0:-1])\n",
    "\n",
    "#jump index\n",
    "print(l1[0:4:2]) # l1[starting index : ending index : no of steps to be skip]\n",
    "#In the above example list printed will be starting from 0 index till the 3rd index with skip one element of list \n",
    "# l1[0:4] -> [1,2,3,6] it will print elements from 0:3\n",
    "# l1[0:4:2] -> [1,3] it will print element from 0:3 and skip element while printing\n",
    "\n",
    "#List Comprehension\n",
    "#We can also generate list by loop\n",
    "l2=[i for i in range(10)]\n",
    "l3=[i for i in range(10) if i%2==0]\n",
    "print(l2)\n",
    "print(l3)\n",
    "\n",
    "#Generating string list by list comprehension\n",
    "names=[\"Ali\",\"Huzaifa\",\"Hanzala\",\"Hamza\"]\n",
    "Hnames=[i for i in names if \"H\" in i]\n",
    "print(Hnames)"
   ]
  },
  {
   "cell_type": "markdown",
   "id": "82eeaf12-696c-4195-afb7-a1a8389fd387",
   "metadata": {},
   "source": [
    "# DAY23 (LIST METHOD)"
   ]
  },
  {
   "cell_type": "code",
   "execution_count": 25,
   "id": "b0435783-aa5b-4855-b82b-2303c5ea1f60",
   "metadata": {},
   "outputs": [
    {
     "name": "stdout",
     "output_type": "stream",
     "text": [
      "[1, 19, 5, 3, 8, 9, 0, 2, 0, 2]\n",
      "[1, 19, 5, 3, 8, 9, 0, 2, 0, 2, 10]\n",
      "[0, 0, 1, 2, 2, 3, 5, 8, 9, 10, 19]\n",
      "[19, 10, 9, 8, 5, 3, 2, 2, 1, 0, 0]\n",
      "[0, 0, 1, 2, 2, 3, 5, 8, 9, 10, 19]\n",
      "9\n",
      "2\n",
      "[0, 0, 1, 2, 2, 3, 5, 8, 9, 10, 19]\n",
      "2\n",
      "15\n",
      "[0, 0, 1, 15, 2, 2, 3, 5, 8, 9, 10, 19, '1', '2', '5']\n",
      "[0, 0, 1, 15, 2, 2, 3, 5, 8, 9, 10, 19, '1', '2']\n",
      "[0, 0, 1, 15, 2, 3, 5, 8, 9, 10, 19, '1', '2']\n",
      "[]\n"
     ]
    }
   ],
   "source": [
    "l=[1,19,5,3,8,9,0,2,0,2]\n",
    "print(l)\n",
    "l.append(10) #Ad Element at the end of the list\n",
    "print(l)\n",
    "l.sort() #sort list in the assending order\n",
    "print(l)\n",
    "l.sort(reverse=True) #if we make reverse=True it will sort list in descending order\n",
    "print(l)\n",
    "l.reverse() #reverse the list\n",
    "print(l)\n",
    "print(l.index(10)) #return the index of first occurance of the list item\n",
    "print(l.count(0)) #return the number of occurances of any item in the list\n",
    "\n",
    "# new_list=l\n",
    "# new_list[0]=45\n",
    "# print(l)\n",
    "\n",
    "#here we want to create a copy of list l so we assign its all items in new_list variable and change the new_list item but the thing happen is that \n",
    "#our original list 'l' got changed becuause new_list is just a reference of list 'l' so if we make change in new_list list 'l' will also be changed\n",
    "#so in order to copy list we can use copy() method in the list\n",
    "\n",
    "new_list=l.copy()\n",
    "print(new_list)\n",
    "\n",
    "print(l[3]) #before insert \n",
    "l.insert(3,15)\n",
    "print(l[3]) #after insert\n",
    "\n",
    "ext=[\"1\",\"2\",\"5\"]\n",
    "l.extend(ext) #put the items of ext list at the end of list 'l'\n",
    "print(l)\n",
    "\n",
    "l.pop() #delete last item from the list\n",
    "print(l)\n",
    "\n",
    "l.remove(2) #remove first occurance of the value\n",
    "print(l)\n",
    "\n",
    "l.clear()\n",
    "print(l) #remove all item from the list\n",
    "\n",
    "#dir(list) to see list of all methods of the list"
   ]
  },
  {
   "cell_type": "markdown",
   "id": "d8c3742c-e41a-4211-a99c-d2ecc75612ad",
   "metadata": {},
   "source": [
    "# DAY24 (TUPLES)"
   ]
  },
  {
   "cell_type": "code",
   "execution_count": 6,
   "id": "74633fe1-8ad1-46b8-a35d-7256ff64ea97",
   "metadata": {},
   "outputs": [
    {
     "name": "stdout",
     "output_type": "stream",
     "text": [
      "<class 'tuple'>\n",
      "<class 'int'>\n",
      "<class 'tuple'>\n",
      "1\n",
      "12\n",
      "(1, 5, 6)\n",
      "(1, 5, 6)\n",
      "True\n"
     ]
    }
   ],
   "source": [
    "# Tuples are ordered collecion of items in a single variable ,Tuple is also similiar to the list but the only difference is that tuple immutable means it cannot be changed while list are muteable\n",
    "#In order to make tuple we use round brackets\n",
    "tup=(1,5,6,7,10,12)\n",
    "print(type(tup))\n",
    "\n",
    "#tuple of one element can be created as\n",
    "tup1=(1)\n",
    "#if we want to create tuple of one element we have add ',' after the element given example below other wise python will consider it as of other data type\n",
    "tup2=(1,)\n",
    "print(type(tup1))\n",
    "print(type(tup2))\n",
    "\n",
    "#Tuples also follows positive and negative indexing similiar to the list\n",
    "print(tup[0]) #Positive Index\n",
    "print(tup[-1]) #Negative Index\n",
    "\n",
    "#Slicing in tuple is also same as list\n",
    "print(tup[0:3])\n",
    "print(tup[-6:-3]) \n",
    "\n",
    "#in keyword also works in tuple as list\n",
    "print(5 in tup)"
   ]
  },
  {
   "cell_type": "markdown",
   "id": "199d4485-1ff2-4065-9b48-523c752d3122",
   "metadata": {},
   "source": [
    "# DAY25 (TUPLE METHODS)"
   ]
  },
  {
   "cell_type": "code",
   "execution_count": 24,
   "id": "1a705244-b1ff-4eb1-9015-329f08e6dd2e",
   "metadata": {},
   "outputs": [
    {
     "name": "stdout",
     "output_type": "stream",
     "text": [
      "1\n",
      "1\n",
      "['Islamabad', 'Dhaka', 'Kabul', 'Riyad', 'Colombo']\n",
      "('Islamabad', 'Dhaka', 'Kabul', 'Riyad', 'Colombo')\n",
      "('Islamabad', 'Dhaka', 'Kabul', 'Riyad', 'Colombo', 'Washington', 'Sharjah')\n"
     ]
    }
   ],
   "source": [
    "#By defualt tuple has only two methods which we can directly perform on tuple in which one of them is .count() and .index()\n",
    "#But if we want to add or remove or perform more operations on tuple we first need to convert tuple into list and then we will be able to \n",
    "#perform all the list operations on it after performing operations we then again convert list into tuple \n",
    "\n",
    "capital=(\"Islamabad\",\"Dhaka\",\"New Dehli\",\"Kabul\",\"Riyad\") #tuple\n",
    "\n",
    "print(capital.count(\"Riyad\")) #return the number of occurances any item has in the given tuple\n",
    "print(capital.index(\"Dhaka\")) #return the index of first occurance of any item in the given tuple\n",
    "\n",
    "#Now we will convert into list \n",
    "capital=list(capital)\n",
    "\n",
    "#Now adding anotheer capital\n",
    "capital.append(\"Colombo\")\n",
    "\n",
    "#Deleting \"New Dehli\" from the tuple\n",
    "capital.remove(\"New Dehli\")\n",
    "print(capital)\n",
    "\n",
    "#Now converting list back to tuple\n",
    "capital=tuple(capital)\n",
    "print(capital)\n",
    "\n",
    "#We can perform concatination in tuple but in result new tuple is returned\n",
    "new_cap=(\"Washington\",\"Sharjah\")\n",
    "capital=capital+new_cap\n",
    "print(capital)"
   ]
  },
  {
   "cell_type": "markdown",
   "id": "87616d90-143a-4d3f-b21f-e0e5ae707f52",
   "metadata": {},
   "source": [
    "# DAY26(SOLUTION EXERCISE 2)"
   ]
  },
  {
   "cell_type": "code",
   "execution_count": 3,
   "id": "82631bba-df0b-4681-bc50-f68eb39819f5",
   "metadata": {},
   "outputs": [
    {
     "name": "stdin",
     "output_type": "stream",
     "text": [
      "Enter hour:  12\n"
     ]
    },
    {
     "name": "stdout",
     "output_type": "stream",
     "text": [
      "12\n",
      "Good Afternoon Sir!\n"
     ]
    }
   ],
   "source": [
    "import time\n",
    "t = time.strftime('%H:%M:%S') \n",
    "hour = int(time.strftime('%H'))\n",
    "hour = int(input(\"Enter hour: \"))\n",
    "print(hour)\n",
    "if(hour>=0 and hour<12):\n",
    "  print(\"Good Morning Sir!\")\n",
    "elif(hour>=12 and hour<17):\n",
    "  print(\"Good Afternoon Sir!\")\n",
    "elif(hour>=17 and hour<0):\n",
    "  print(\"Good Night Sir!\")"
   ]
  },
  {
   "cell_type": "markdown",
   "id": "67cdda4c-e40d-43b7-840c-7c8ee03b993a",
   "metadata": {},
   "source": [
    "# DAY27 (EXERCISE 3)"
   ]
  },
  {
   "cell_type": "code",
   "execution_count": 38,
   "id": "cf51acf3-faa7-4f48-9ec3-cc656a7eb790",
   "metadata": {},
   "outputs": [
    {
     "name": "stdout",
     "output_type": "stream",
     "text": [
      "Here you will have a chance to win money for every correct answer!\n"
     ]
    },
    {
     "name": "stdin",
     "output_type": "stream",
     "text": [
      "Enter Your Name:  H\n"
     ]
    },
    {
     "name": "stdout",
     "output_type": "stream",
     "text": [
      "\n",
      "Q1. What is the name of the current Prime Minister of Pakistan?\n",
      "1. Imran Khan\n",
      "2. Shahbaz Sharif\n",
      "3. Bilawal Bhutto\n",
      "4. Mustafa Kamal\n"
     ]
    },
    {
     "name": "stdin",
     "output_type": "stream",
     "text": [
      "Enter the number of your answer (1-4):  3\n"
     ]
    },
    {
     "name": "stdout",
     "output_type": "stream",
     "text": [
      "Wrong Answer! 😞 The correct answer was: 2\n",
      "\n",
      "Thank you for playing, H!\n",
      "Your total winnings: PKR0\n"
     ]
    }
   ],
   "source": [
    "#print(\"Welcome to 'Kon Banega Crorepati'!\\n\")\n",
    "print(\"Here you will have a chance to win money for every correct answer!\")\n",
    "\n",
    "name = input(\"Enter Your Name: \")\n",
    "total_amount = 0\n",
    "\n",
    "# Questions, answers, and correct options\n",
    "questions = [\n",
    "    \"Q1. What is the name of the current Prime Minister of Pakistan?\",\n",
    "    \"Q2. Which team is currently the T20 World Champion?\",\n",
    "    \"Q3. Who will host the Champions Trophy next year?\"\n",
    "]\n",
    "options = [\n",
    "    [\"1. Imran Khan\", \"2. Shahbaz Sharif\", \"3. Bilawal Bhutto\", \"4. Mustafa Kamal\"],\n",
    "    [\"1. India\", \"2. Australia\", \"3. Pakistan\", \"4. South Africa\"],\n",
    "    [\"1. India\", \"2. Australia\", \"3. Pakistan\", \"4. South Africa\"]\n",
    "]\n",
    "correct_answers = [2, 1, 3]  # Correct options (based on 1-indexed options)\n",
    "\n",
    "# Main game loop\n",
    "for i in range(len(questions)):\n",
    "    print(\"\\n\" + questions[i])\n",
    "    for option in options[i]:\n",
    "        print(option)\n",
    "    \n",
    "    # Get user's answer\n",
    "    try:\n",
    "        user_answer = int(input(\"Enter the number of your answer (1-4): \"))\n",
    "        if user_answer == correct_answers[i]:\n",
    "            print(\"Correct Answer! 🎉\")\n",
    "            total_amount += 1000  # Add to total amount for each correct answer\n",
    "        else:\n",
    "            print(\"Wrong Answer! 😞 The correct answer was:\", correct_answers[i])\n",
    "            break  # End the game if the answer is wrong\n",
    "    except ValueError:\n",
    "        print(\"Invalid input! Please enter a number between 1 and 4.\")\n",
    "        break\n",
    "\n",
    "# Game summary\n",
    "print(f\"\\nThank you for playing, {name}!\")\n",
    "print(f\"Your total winnings: PKR{total_amount}\")"
   ]
  },
  {
   "cell_type": "markdown",
   "id": "bc6c7e68-6761-46a3-a4c3-48faf21feaae",
   "metadata": {},
   "source": [
    "# DAY28 (f Strings)"
   ]
  },
  {
   "cell_type": "code",
   "execution_count": 2,
   "id": "0990d9cd-2886-4def-9cfb-985d6e3a484f",
   "metadata": {},
   "outputs": [
    {
     "name": "stdout",
     "output_type": "stream",
     "text": [
      "My name is Huzaifa and  i am from Pakistan\n",
      "Hey my name is Huzaifa and i am from Pakistan\n",
      "Hey my name is {name} and i am from {country}\n",
      "Price:25.00\n"
     ]
    }
   ],
   "source": [
    "#F-String in python is ued for string formatting it is included in python in python 3.6 version \n",
    "letter=\"My name is {0} and  i am from {1}\"\n",
    "name=\"Huzaifa\"\n",
    "country=\"Pakistan\"\n",
    "\n",
    "print(letter.format(name,country))\n",
    "\n",
    "#Using String \n",
    "print(f\"Hey my name is {name} and i am from {country}\")\n",
    "print(f\"Hey my name is {{name}} and i am from {{country}}\")\n",
    "price=25.000999\n",
    "print(f\"Price:{price:.2f}\") #taks only 2 decimal places \n"
   ]
  },
  {
   "cell_type": "markdown",
   "id": "5b1e34be-0a43-4d2e-9bcc-c81131d21045",
   "metadata": {},
   "source": [
    "# DAY29 (Doc Strings)"
   ]
  },
  {
   "cell_type": "code",
   "execution_count": 9,
   "id": "497a0dac-44de-4430-97c0-efa9ce6f3d1a",
   "metadata": {},
   "outputs": [
    {
     "name": "stdout",
     "output_type": "stream",
     "text": [
      "12\n",
      "  \n",
      "    Add up two integer numbers.\n",
      "    This function simply wraps the ``+`` operator, and does not\n",
      "    do anything interesting, except for illustrating what\n",
      "    the docstring of a very simple function looks like.\n",
      "    Parameters\n",
      "    ----------\n",
      "    num1 : int\n",
      "        First number to add.\n",
      "    num2 : int\n",
      "        Second number to add.\n",
      "    Returns\n",
      "    -------\n",
      "    int\n",
      "        The sum of ``num1`` and ``num2``.\n",
      "    See Also\n",
      "    --------\n",
      "    subtract : Subtract one integer from another.\n",
      "    Examples\n",
      "    --------\n",
      "    >>> add(2, 2)\n",
      "    4\n",
      "    >>> add(25, 0)\n",
      "    25\n",
      "    >>> add(10, -10)\n",
      "    0\n",
      "    \n"
     ]
    }
   ],
   "source": [
    "#Doc Strings are special strings used in python which will be defined right after function defination ,class ,module \n",
    "#it is used to describe the behavouir of the function that what will function do \n",
    "def add(a,b):\n",
    "    \"\"\"  \n",
    "    Add up two integer numbers.\n",
    "    This function simply wraps the ``+`` operator, and does not\n",
    "    do anything interesting, except for illustrating what\n",
    "    the docstring of a very simple function looks like.\n",
    "    Parameters\n",
    "    ----------\n",
    "    num1 : int\n",
    "        First number to add.\n",
    "    num2 : int\n",
    "        Second number to add.\n",
    "    Returns\n",
    "    -------\n",
    "    int\n",
    "        The sum of ``num1`` and ``num2``.\n",
    "    See Also\n",
    "    --------\n",
    "    subtract : Subtract one integer from another.\n",
    "    Examples\n",
    "    --------\n",
    "    >>> add(2, 2)\n",
    "    4\n",
    "    >>> add(25, 0)\n",
    "    25\n",
    "    >>> add(10, -10)\n",
    "    0\n",
    "    \"\"\"  #simple doc string\n",
    "    return a+b\n",
    "\n",
    "res=add(3,9)\n",
    "print(res)\n",
    "\n",
    "#prinitng doc string\n",
    "print(add.__doc__)\n",
    "\n",
    "#Doc Strings and Comments are two different things in python doc string is used to help user understand how to use the function ,class ,module  and\n",
    "# it can be accessed by .__doc__ attribute while comments are written in python help understanding the code and it is completely ignored by intetptretor\n",
    "\n",
    "# PEP 8 is a document that provides guidelines and best practices on how to write Python code. \n",
    "# It was written in 2001 by Guido van Rossum, Barry Warsaw, and Nick Coghlan. \n",
    "# The primary focus of PEP 8 is to improve the readability and consistency of Python code.\n",
    "\n",
    "# PEP stands for Python Enhancement Proposal, and there are several of them. \n",
    "# A PEP is a document that describes new features proposed for Python and documents aspects of Python,\n",
    "# like design and style, for the community."
   ]
  },
  {
   "cell_type": "markdown",
   "id": "59994f24-0c57-4845-b4d9-4b36ae9d8499",
   "metadata": {},
   "source": [
    "# DAY30 (RECURSION)"
   ]
  },
  {
   "cell_type": "code",
   "execution_count": 34,
   "id": "1ad379e4-8f10-4d5f-86fe-64e512a5b577",
   "metadata": {},
   "outputs": [],
   "source": [
    "#Recursion is a process of calling a function inside the same function\n",
    "def calculate_Factorial(n):\n",
    "    if n==0 or n==1:\n",
    "        return 1\n",
    "    else:\n",
    "        return n*calculate_Factorial(n-1)\n",
    "\n",
    "def calculate_Sum(n):\n",
    "    if  n==1:\n",
    "        return 1\n",
    "    else:\n",
    "        return n+calculate_Sum(n-1)   \n",
    "# res=calculate_Sum(10)\n",
    "# print(res)"
   ]
  },
  {
   "cell_type": "markdown",
   "id": "30edfcc2-f796-42a8-b066-b4055d961fa9",
   "metadata": {},
   "source": [
    "# DAY31 (SETS) "
   ]
  },
  {
   "cell_type": "code",
   "execution_count": 2,
   "id": "3bad42bd-6d5c-417a-ad81-5ed555c62278",
   "metadata": {},
   "outputs": [
    {
     "name": "stdout",
     "output_type": "stream",
     "text": [
      "{2, 4, 7}\n",
      "{True, 2, 3.8, 'Hello'}\n",
      "<class 'set'>\n",
      "True\n",
      "2\n",
      "3.8\n",
      "Hello\n"
     ]
    }
   ],
   "source": [
    "#Set is a unordered collection of item stored in single variable\n",
    "#you can not add same value multiple times in a sets means no duplicate entries allowed\n",
    "s={2,4,2,7} #set\n",
    "print(s)\n",
    "\n",
    "#Data of Multiple items can be added in the set\n",
    "s1={2,\"Hello\",3.8,True}\n",
    "print(s1)\n",
    "\n",
    "#Items of sets cannot be accessed by index numbers\n",
    "#There is no specific order in sets means if we make of 3 items 1,2,3 and print it then it would not be necessary that it will be print in the order of 1,2,3 ,it might be 2,1,3 or 3,1,2 etc\n",
    "\n",
    "#creating empty set\n",
    "emp=set()\n",
    "print(type(emp))\n",
    "\n",
    "#Accessing value of set\n",
    "for i in s1:\n",
    "    print(i)\n"
   ]
  },
  {
   "cell_type": "markdown",
   "id": "d1c54ee6-3f55-44d0-ba47-30dc11ff45c4",
   "metadata": {},
   "source": [
    "# DAY 32(SETS METHODS)"
   ]
  },
  {
   "cell_type": "code",
   "execution_count": 33,
   "id": "1aa99bce-fa51-4688-b1f5-538bb83169e0",
   "metadata": {},
   "outputs": [
    {
     "name": "stdout",
     "output_type": "stream",
     "text": [
      "{1, 2, 4, 5, 6, 7}\n",
      "{1, 2, 4, 5, 6, 7}\n",
      "{2, 4, 5, 7}\n",
      "{2, 4, 5, 7}\n",
      "{'L', 'D', 'K', 'C'}\n",
      "{'L', 'K'}\n",
      "{'D', 'C'}\n",
      "True\n",
      "True\n",
      "False\n",
      "True\n",
      "{1, 2, 3, 4, 5, 12, 13, 15}\n",
      "{1, 2, 3, 4, 12, 13, 15}\n",
      "1\n",
      "set()\n",
      "Present\n",
      "{1, 2, 5}\n"
     ]
    }
   ],
   "source": [
    "s1={1,2,5,6}\n",
    "s2={2,4,5,7}\n",
    "print(s1.union(s2)) #join elements of both sets\n",
    "s1.update(s2) #Add Elements of s2 into s1 which are not present in the set\n",
    "print(s1)\n",
    "print(s1.intersection(s2)) #common values of both sets\n",
    "s1.intersection_update(s2) #remove all the other elements from set 1 apart from those also present in set2\n",
    "print(s1)\n",
    "#Symetric Difference : All Uncommon Values\n",
    "\n",
    "c1={\"A\",\"C\",\"D\",\"E\",\"H\"}\n",
    "c2={\"A\",\"L\",\"K\",\"E\",\"H\"}\n",
    "print(c1.symmetric_difference(c2)) #Returns all uncommon values of both sets\n",
    "print(c2.difference(c1)) #Subract values from set c1 from c2 and returns the remaining values\n",
    "print(c1.difference(c2))\n",
    "\n",
    "a1={1,2,3,4,5}\n",
    "a2={6,7,8,9,0}\n",
    "a3={5,1,2}\n",
    "print(a1.isdisjoint(a2)) #disjoint sets are those sets in which no elemnent in both set is common\n",
    "print(a1.issuperset(a3)) #Superset is those set if all element of one set is present in other set\n",
    "print(a2.issuperset(a3)) \n",
    "print(a3.issubset(a1)) \n",
    "\n",
    "#To Add Item\n",
    "a1.add(12)\n",
    "#if we want to Add more than 1 item in the set we use update() method\n",
    "a1.update({13,15})\n",
    "print(a1)\n",
    "\n",
    "#To Remove item \n",
    "a1.remove(5)\n",
    "a1.discard(19)\n",
    "#The main difference b/w remove and discard is that if user want to remove any item that is already not in the set it will rasie an error while discard\n",
    "#wont raise any error\n",
    "print(a1)\n",
    "a=a1.pop() #remove any item from the set as the sets are unordered\n",
    "print(a)\n",
    "b1=a3.copy()\n",
    "del a3 #delete whole set if we try to access a3 set it will raise error\n",
    "#if we dont want to delete whole set but just want to remove all items of set we use method clear\n",
    "a2.clear()\n",
    "print(a2)\n",
    "#To check if the value exist in set\n",
    "if 3 in a1:\n",
    "    print(\"Present\")\n",
    "else:\n",
    "    print(\"Not Present\")\n",
    "print(b1)"
   ]
  },
  {
   "cell_type": "markdown",
   "id": "e6c5d5b2-fc57-42f6-8fa2-3d89eee1b6f9",
   "metadata": {},
   "source": [
    "# DAY33 (DICTIONARY)"
   ]
  },
  {
   "cell_type": "code",
   "execution_count": 1,
   "id": "d852e530-8d10-49b0-a34b-a10aa0cd0146",
   "metadata": {},
   "outputs": [
    {
     "name": "stdout",
     "output_type": "stream",
     "text": [
      "Cats\n",
      "Fish\n",
      "dict_keys(['Animals', 'Species', 3, 4, 5])\n",
      "dict_values(['Cats', 'Fish', 'Three', 'Four', 'Five'])\n",
      "dict_items([('Animals', 'Cats'), ('Species', 'Fish'), (3, 'Three'), (4, 'Four'), (5, 'Five')])\n",
      "Animals : Cats\n",
      "Species : Fish\n",
      "3 : Three\n",
      "4 : Four\n",
      "5 : Five\n",
      "Animals : Cats\n",
      "Species : Fish\n",
      "3 : Three\n",
      "4 : Four\n",
      "5 : Five\n"
     ]
    }
   ],
   "source": [
    "#DAY33\n",
    "#Dictionaries are ordered collection of data items stored in single varibable ,values stored in dictionaries are in form of key-value pairs and can be accessed easily by using key\n",
    "dic={\n",
    "    \"Animals\":\"Cats\",\n",
    "    \"Species\":\"Fish\",\n",
    "    3:\"Three\",\n",
    "    4:\"Four\",\n",
    "    5:\"Five\"\n",
    "}\n",
    "print(dic[\"Animals\"]) #Will rasie an error if key does nt exist\n",
    "print(dic.get('Species')) #Not raise error and return 'none' if key does not exist\n",
    "\n",
    "print(dic.keys())\n",
    "print(dic.values())\n",
    "print(dic.items())\n",
    "\n",
    "for k,v in dic.items():\n",
    "    print(f\"{k} : {v}\")\n",
    "\n",
    "for i in dic.keys():\n",
    "    print(i,\":\",dic[i])\n"
   ]
  },
  {
   "cell_type": "markdown",
   "id": "62987115-affe-4297-985e-915e769cf9c9",
   "metadata": {},
   "source": [
    "# DAY34 (DICTIONARY METHODS)"
   ]
  },
  {
   "cell_type": "code",
   "execution_count": 16,
   "id": "a398c951-a551-42ff-8bf1-5c4ac8c6cdbb",
   "metadata": {},
   "outputs": [
    {
     "name": "stdout",
     "output_type": "stream",
     "text": [
      "{123: 55, 543: 71, 121: 43, 900: 87, 432: 61, 10: 50}\n",
      "{}\n",
      "123 : 55\n",
      "543 : 71\n",
      "121 : 43\n",
      "900 : 87\n",
      "99 : 80\n"
     ]
    }
   ],
   "source": [
    "ep={\n",
    "    123:55,\n",
    "    543:71,\n",
    "    121:43,\n",
    "    900:87\n",
    "}\n",
    "ep2={\n",
    "    432:61,\n",
    "    10:50\n",
    "}\n",
    "ep.update(ep2) #updating dictionary\n",
    "print(ep)\n",
    "ep3=ep2.copy() #creates copy of dictionary\n",
    "ep2.clear() #clearing all items from the dictionary\n",
    "ep.pop(10) #removing item from dictionary\n",
    "ep.popitem() #remove last item from the dictinary\n",
    "ep.setdefault(99,80) #checks if the key is not available it inserts the key\n",
    "# del ep2 #delete whole dictionary\n",
    "print(ep2) \n",
    "# 1 more thing to keep in mind, if there are identical keys in both the dictionaries, \n",
    "# eg - a = {12:50,17:51} and b = {11:45, 12:55}, we can see 12 is a key for both the dictionaries, \n",
    "# now with the update function  a.update(b) , the value of key -12 in b will replace the original value. So \n",
    "# new \"a\" dictionary will be a = {12: 55, 17: 51, 11: 45}\n",
    "for k,v in ep.items():\n",
    "    print(f\"{k} : {v}\")"
   ]
  },
  {
   "cell_type": "markdown",
   "id": "b3372e66-1092-4552-b34f-b597809d8b1b",
   "metadata": {},
   "source": [
    "# DAY35 (LOOP WITH ELSE)"
   ]
  },
  {
   "cell_type": "code",
   "execution_count": 5,
   "id": "f976bc81-24ab-4a97-a9be-644c192646c4",
   "metadata": {},
   "outputs": [
    {
     "name": "stdout",
     "output_type": "stream",
     "text": [
      "0\n",
      "1\n",
      "2\n",
      "3\n",
      "4\n",
      "LOOP COMPLETED SUCCESSFULLY\n",
      "2\n",
      "Target Found\n"
     ]
    }
   ],
   "source": [
    "#In Python, a for loop can have an else clause attached to it. This might seem unusual, but it can be very useful in certain scenarios\n",
    "# The else block will execute only if the loop completes normally (i.e., it is not interrupted by a break statement).\n",
    "# If the loop is terminated prematurely using a break statement, the else block will not execute.\n",
    "for i in range(5):\n",
    "    print(i)\n",
    "else:\n",
    "    print(\"LOOP COMPLETED SUCCESSFULLY\")\n",
    "\n",
    "for i in range(5):\n",
    "    if i==2:\n",
    "        print(i)\n",
    "        break\n",
    "else:\n",
    "    print(\"LOOP COMPLETED SUCCESSFULLY\")  #Else block will not execute because loop does not completed it is break after condtion\n",
    "\n",
    "l1=[2,5,6,7,8,9]\n",
    "target=7\n",
    "for i in l1:\n",
    "    if i==target:\n",
    "        print(\"Target Found\")\n",
    "        break\n",
    "else:\n",
    "    print(\"Target Not Found\")\n",
    "    "
   ]
  },
  {
   "cell_type": "code",
   "execution_count": 7,
   "id": "5f6bff70-68a2-484c-8152-b60739d9caf8",
   "metadata": {},
   "outputs": [
    {
     "name": "stdout",
     "output_type": "stream",
     "text": [
      "Target Found\n"
     ]
    }
   ],
   "source": [
    "#else block can also be used in while loop and the case is same as for loop else will only execute when loops will be executed\n",
    "#compeletely otherwise else will not executed\n",
    "l1=[3,4,5,6,7,8]\n",
    "target=5\n",
    "i=0\n",
    "while i<len(l1):\n",
    "    if i==target:\n",
    "        print(\"Target Found\")\n",
    "        break \n",
    "    i=i+1\n",
    "else:\n",
    "    print(\"Target Not Found\")"
   ]
  },
  {
   "cell_type": "markdown",
   "id": "2164d08d-4f09-4ad0-a897-ba77e583c729",
   "metadata": {},
   "source": [
    "# DAY36 (EXEPTION HANDLING)"
   ]
  },
  {
   "cell_type": "code",
   "execution_count": 10,
   "id": "f58b7a47-5e5b-4f99-91e4-eebc0f3ee886",
   "metadata": {},
   "outputs": [
    {
     "name": "stdin",
     "output_type": "stream",
     "text": [
      "Enter Number h\n"
     ]
    },
    {
     "name": "stdout",
     "output_type": "stream",
     "text": [
      "Invalid Input\n",
      "This is after Loop\n"
     ]
    }
   ],
   "source": [
    "# Exception handling is the process of responding to unwanted or unexpected events when a computer program runs. \n",
    "# Exception handling deals with these events to avoid the program or system crashing, and without this process, \n",
    "# exceptions would disrupt the normal operation of a program.\n",
    "#When we write a Program it Error may arsises due to wrong code or it might be case that you are working on a project in which data is called from the\n",
    "#server ,if due to any error data is not being called from server successfully we dont want our program to terminate due to error here execption handlng\n",
    "#came into play here we give some condtion that if data could not load successfully then error will not be rasied\n",
    "# Here are some common Python exceptions:\n",
    "\n",
    "# ZeroDivisionError: Division by zero.\n",
    "# ValueError: Invalid argument.\n",
    "# TypeError: Operation applied to an inappropriate type.\n",
    "# KeyError: Accessing a non-existent dictionary key.\n",
    "# IndexError: Accessing an out-of-ranges list index.\n",
    "# FileNotFoundError: File not found.\n",
    "# IOError: Input/output error.\n",
    "try:\n",
    "    a=int(input(\"Enter Number\"))\n",
    "    for i in range(1,11):\n",
    "        print(f\"{a} X {i} = {a*i}\")\n",
    "except:\n",
    "    print(\"Invalid Input\")\n",
    "print(\"This is after Loop\")"
   ]
  },
  {
   "cell_type": "code",
   "execution_count": 13,
   "id": "f37966a7-fe57-433b-b6b4-9aa1098f11ae",
   "metadata": {},
   "outputs": [
    {
     "name": "stdin",
     "output_type": "stream",
     "text": [
      "Enter any integer 8\n"
     ]
    },
    {
     "name": "stdout",
     "output_type": "stream",
     "text": [
      "Index Error\n"
     ]
    }
   ],
   "source": [
    "try:\n",
    "    inp1=int(input(\"Enter any integer\"))\n",
    "    a=[2,5]\n",
    "    print(a[inp1])\n",
    "except ValueError:\n",
    "    print(\"Invalid Data Type Entered\")\n",
    "except IndexError:\n",
    "    print(\"Index Error\")"
   ]
  },
  {
   "cell_type": "markdown",
   "id": "e43e3c98-b622-4f2e-85ca-8a59ce83df42",
   "metadata": {},
   "source": [
    "# DAY 37 (FINALLY KEYWORD)"
   ]
  },
  {
   "cell_type": "code",
   "execution_count": 9,
   "id": "1499c950-d4ce-4b95-bebd-ef9fe46050c8",
   "metadata": {},
   "outputs": [
    {
     "name": "stdin",
     "output_type": "stream",
     "text": [
      "Enter Index 2\n"
     ]
    },
    {
     "name": "stdout",
     "output_type": "stream",
     "text": [
      "4\n",
      "Execution Successful!\n",
      "I am Always Executed\n"
     ]
    }
   ],
   "source": [
    "# The finally keyword in Python is used in conjunction with try and except blocks to define a block of code that will always execute, \n",
    "# regardless of whether an exception occurs or not. The primary purpose of the finally block is to handle clean-up actions, \n",
    "# such as releasing resources or closing files, ensuring they are executed no matter the outcome of the code.\n",
    "#else block will only execute when there is no error raised and execution is successful \n",
    "try:\n",
    "    l1=[2,3,4,5,6]\n",
    "    a=int(input(\"Enter Index\"))\n",
    "    print(l1[a])\n",
    "except:\n",
    "    print(\"Some Error Occured !\")\n",
    "else:\n",
    "    print(\"Execution Successful!\")\n",
    "finally:\n",
    "    print(\"I am Always Executed\")\n",
    "    "
   ]
  },
  {
   "cell_type": "code",
   "execution_count": 4,
   "id": "30aff26e-ac70-4ea7-8acf-ee33773ec941",
   "metadata": {},
   "outputs": [
    {
     "name": "stdin",
     "output_type": "stream",
     "text": [
      "Enter Index h\n"
     ]
    },
    {
     "name": "stdout",
     "output_type": "stream",
     "text": [
      "Some Error Occured !\n",
      "0\n"
     ]
    }
   ],
   "source": [
    "#The main usecase of finally came into when we are working in functions below example we dont use finally then see what happen\n",
    "def print_Number():\n",
    "    try:\n",
    "        l1=[2,3,4,5,6]\n",
    "        a=int(input(\"Enter Index\"))\n",
    "        print(l1[a])\n",
    "        return 1\n",
    "    except:\n",
    "        print(\"Some Error Occured !\")\n",
    "        return 0\n",
    "    print(\"I am Always Executed\")\n",
    "\n",
    "#Now Calling function \n",
    "x=print_Number()\n",
    "print(x)\n",
    "#here print() after except will not be executed because in functions whenever return statement comes in function it will go back and will not execute\n",
    "#any thing after that "
   ]
  },
  {
   "cell_type": "code",
   "execution_count": 7,
   "id": "b6362e62-a420-4fdc-a915-12f863aa6b5c",
   "metadata": {},
   "outputs": [
    {
     "name": "stdin",
     "output_type": "stream",
     "text": [
      "Enter Index h\n"
     ]
    },
    {
     "name": "stdout",
     "output_type": "stream",
     "text": [
      "Some Error Occured !\n",
      "I am Always Executed\n",
      "0\n"
     ]
    }
   ],
   "source": [
    "#Now adding finally to see its usecase\n",
    "def list_Number():\n",
    "    try:\n",
    "        l1=[2,3,4,5,6]\n",
    "        a=int(input(\"Enter Index\"))\n",
    "        print(l1[a])\n",
    "        return 1\n",
    "    except:\n",
    "        print(\"Some Error Occured !\")\n",
    "        return 0\n",
    "    finally:\n",
    "        print(\"I am Always Executed\")\n",
    "#Calling function\n",
    "x=list_Number()\n",
    "print(x)\n",
    "#finally keyword will execute regardless of where the return statement is present in the list\n",
    "#Commonly used for cleanup tasks, like closing files, releasing locks, or disconnecting from databases."
   ]
  },
  {
   "cell_type": "markdown",
   "id": "01a2dc37-78c7-413b-9ff8-09c924d4dc3a",
   "metadata": {},
   "source": [
    "# DAY38 (RAISING CUSTOM ERROR)"
   ]
  },
  {
   "cell_type": "code",
   "execution_count": 11,
   "id": "e4daa54e-8634-4d1f-9713-cf16c517c299",
   "metadata": {},
   "outputs": [
    {
     "name": "stdin",
     "output_type": "stream",
     "text": [
      "Enter Number b/w 1-10 12\n"
     ]
    },
    {
     "ename": "ValueError",
     "evalue": "Value Should be b/w 1-10",
     "output_type": "error",
     "traceback": [
      "\u001b[1;31m---------------------------------------------------------------------------\u001b[0m",
      "\u001b[1;31mValueError\u001b[0m                                Traceback (most recent call last)",
      "Cell \u001b[1;32mIn[11], line 6\u001b[0m\n\u001b[0;32m      4\u001b[0m a\u001b[38;5;241m=\u001b[39m\u001b[38;5;28mint\u001b[39m(\u001b[38;5;28minput\u001b[39m(\u001b[38;5;124m\"\u001b[39m\u001b[38;5;124mEnter Number b/w 1-10\u001b[39m\u001b[38;5;124m\"\u001b[39m))\n\u001b[0;32m      5\u001b[0m \u001b[38;5;28;01mif\u001b[39;00m a\u001b[38;5;241m<\u001b[39m\u001b[38;5;241m0\u001b[39m \u001b[38;5;129;01mor\u001b[39;00m a\u001b[38;5;241m>\u001b[39m\u001b[38;5;241m10\u001b[39m:\n\u001b[1;32m----> 6\u001b[0m     \u001b[38;5;28;01mraise\u001b[39;00m \u001b[38;5;167;01mValueError\u001b[39;00m(\u001b[38;5;124m\"\u001b[39m\u001b[38;5;124mValue Should be b/w 1-10\u001b[39m\u001b[38;5;124m\"\u001b[39m)\n\u001b[0;32m      7\u001b[0m \u001b[38;5;28;01melse\u001b[39;00m:\n\u001b[0;32m      8\u001b[0m     \u001b[38;5;28mprint\u001b[39m(a)\n",
      "\u001b[1;31mValueError\u001b[0m: Value Should be b/w 1-10"
     ]
    }
   ],
   "source": [
    "# In Python, you can raise custom errors using the raise statement.\n",
    "# This allows you to explicitly trigger exceptions that are meaningful for your specific application. Additionally,\n",
    "# you can define custom exception classes to represent unique error conditions.\n",
    "a=int(input(\"Enter Number b/w 1-10\"))\n",
    "if a<0 or a>10:\n",
    "    raise ValueError(\"Value Should be b/w 1-10\")\n",
    "else:\n",
    "    print(a)\n",
    "\n",
    "#Sometime we need to raise custom error to avoid any unnecessary behvouir in the program "
   ]
  },
  {
   "cell_type": "markdown",
   "id": "a6aed0e0-b4df-4e63-a59e-f63d52e47e62",
   "metadata": {},
   "source": [
    "# DAY39 (EXCERCISE 03 SOLUTION)"
   ]
  },
  {
   "cell_type": "code",
   "execution_count": 12,
   "id": "fc3f932d-cf46-4419-b7bc-8de700cbb40d",
   "metadata": {},
   "outputs": [
    {
     "name": "stdout",
     "output_type": "stream",
     "text": [
      "WELCOME TO KON BANE GA CRORE PATTI \n",
      " \n",
      "\n"
     ]
    },
    {
     "name": "stdin",
     "output_type": "stream",
     "text": [
      "Enter your Name Huzaifa\n"
     ]
    },
    {
     "name": "stdout",
     "output_type": "stream",
     "text": [
      "\n",
      " \n",
      " Question for Rs 1000\n",
      "WHO IS CURRENT WORLD CHAMPTION \n",
      " Your Options \n",
      " 1.PAKISTAN \t 2.INDIA \n",
      " 3.AUSTRALIA \t 4.SOUTH AFRICA \n",
      " \n"
     ]
    },
    {
     "name": "stdin",
     "output_type": "stream",
     "text": [
      "Enter your Answer (1-4) 3\n"
     ]
    },
    {
     "name": "stdout",
     "output_type": "stream",
     "text": [
      "YOU WON Rs 1000\n",
      "Your Total Winnings 1000\n",
      "\n",
      " \n",
      " Question for Rs 2000\n",
      "WHO IS CURRENT WORLD CHAMPTION \n",
      " Your Options \n",
      " 1.PAKISTAN \t 2.INDIA \n",
      " 3.AUSTRALIA \t 4.SOUTH AFRICA \n",
      " \n"
     ]
    },
    {
     "name": "stdin",
     "output_type": "stream",
     "text": [
      "Enter your Answer (1-4) 1\n"
     ]
    },
    {
     "name": "stdout",
     "output_type": "stream",
     "text": [
      "WRONG ANSWER\n",
      "Thankyou for Playing Mr. Huzaifa\n",
      "YOUR TOTAL WINNINGS 1000\n"
     ]
    }
   ],
   "source": [
    "ques=[\n",
    "    [\"WHO IS CURRENT WORLD CHAMPTION\",\"PAKISTAN\",\"INDIA\",\"AUSTRALIA\",\"SOUTH AFRICA\",3],\n",
    "     [\"WHO IS CURRENT WORLD CHAMPTION\",\"PAKISTAN\",\"INDIA\",\"AUSTRALIA\",\"SOUTH AFRICA\",3],\n",
    "     [\"WHO IS CURRENT WORLD CHAMPTION\",\"PAKISTAN\",\"INDIA\",\"AUSTRALIA\",\"SOUTH AFRICA\",3],\n",
    "     [\"WHO IS CURRENT WORLD CHAMPTION\",\"PAKISTAN\",\"INDIA\",\"AUSTRALIA\",\"SOUTH AFRICA\",3],\n",
    "     [\"WHO IS CURRENT WORLD CHAMPTION\",\"PAKISTAN\",\"INDIA\",\"AUSTRALIA\",\"SOUTH AFRICA\",3],\n",
    "     [\"WHO IS CURRENT WORLD CHAMPTION\",\"PAKISTAN\",\"INDIA\",\"AUSTRALIA\",\"SOUTH AFRICA\",3],\n",
    "     [\"WHO IS CURRENT WORLD CHAMPTION\",\"PAKISTAN\",\"INDIA\",\"AUSTRALIA\",\"SOUTH AFRICA\",3],\n",
    "     [\"WHO IS CURRENT WORLD CHAMPTION\",\"PAKISTAN\",\"INDIA\",\"AUSTRALIA\",\"SOUTH AFRICA\",3],\n",
    "     [\"WHO IS CURRENT WORLD CHAMPTION\",\"PAKISTAN\",\"INDIA\",\"AUSTRALIA\",\"SOUTH AFRICA\",3],\n",
    "     ]\n",
    "levels=[1000,2000,4000,8000,16000,32000,64000,128000,256000]\n",
    "count=0\n",
    "print(\"WELCOME TO KON BANE GA CRORE PATTI \\n \\n\")\n",
    "name=input(\"Enter your Name\")\n",
    "for i in range(0,len(ques)):\n",
    "    question=ques[i]\n",
    "    print(f\"\\n \\n Question for Rs {levels[i]}\")\n",
    "    print(f\"{question[0]} \\n Your Options \\n 1.{question[1]} \\t 2.{question[2]} \\n 3.{question[3]} \\t 4.{question[4]} \\n \")\n",
    "    reply=int(input(\"Enter your Answer (1-4)\"))\n",
    "    if reply==question[5]:\n",
    "        print(f\"YOU WON Rs {levels[i]}\")\n",
    "        count=count+levels[i]\n",
    "        print(f\"Your Total Winnings {count}\")\n",
    "    else:\n",
    "        print(\"WRONG ANSWER\")\n",
    "        break\n",
    "print(\"Thankyou for Playing Mr.\",name)\n",
    "print(\"YOUR TOTAL WINNINGS\",count)"
   ]
  },
  {
   "cell_type": "markdown",
   "id": "59003bb0-b859-4bf8-81cb-5ef3d044e195",
   "metadata": {},
   "source": [
    "# DAY40 (EXERCISE # 4)"
   ]
  },
  {
   "cell_type": "code",
   "execution_count": 13,
   "id": "9d84dc4e-2660-4583-9b83-6332a1e5bd00",
   "metadata": {},
   "outputs": [],
   "source": [
    "# Write a python program to translate a message into secret code language. Use the rules below to translate normal English into secret code language\n",
    "\n",
    "# Coding:\n",
    "# if the word contains atleast 3 characters, remove the first letter and append it at the end\n",
    "#   now append three random characters at the starting and the end\n",
    "# else:\n",
    "#   simply reverse the string\n",
    "\n",
    "# Decoding:\n",
    "# if the word contains less than 3 characters, reverse it\n",
    "# else:\n",
    "#   remove 3 random characters from start and end. Now remove the last letter and append it to the beginning\n",
    "\n",
    "# Your program should ask whether you want to code or decode\n"
   ]
  },
  {
   "cell_type": "code",
   "execution_count": 16,
   "id": "d42a4e3a-cbea-4bd1-97eb-0dbb029c6c56",
   "metadata": {},
   "outputs": [
    {
     "name": "stdin",
     "output_type": "stream",
     "text": [
      "Enter your Choice Encode or Decode (E or D) E\n",
      "Enter String to Encode Programming\n"
     ]
    },
    {
     "name": "stdout",
     "output_type": "stream",
     "text": [
      "gRsrogrammingPAxV\n"
     ]
    }
   ],
   "source": [
    "import random\n",
    "choice=input(\"Enter your Choice Encode or Decode (E or D)\").upper()\n",
    "letters=\"ABCDEFGHIJKLMNOPQRSTUVWXYZabcdefghijklmnopqrstuvwxyz\"\n",
    "def encode_String(str1):\n",
    "    if len(str1)<=3:\n",
    "        return str1[::-1]\n",
    "    else:\n",
    "        firstchar=str1[0]\n",
    "        str1=str1.replace(firstchar,\"\")\n",
    "        str1=str1+firstchar\n",
    "    for i in range(0,6):\n",
    "         randint=random.randint(0,len(letters)-1)\n",
    "         if i <3:\n",
    "             str1=letters[randint]+str1 \n",
    "         else:\n",
    "             str1=str1+letters[randint]\n",
    "    return str1\n",
    "\n",
    "def decode_String(str1):\n",
    "    if len(str1)<=3:\n",
    "        return str1[::-1]\n",
    "    else:\n",
    "        str1=str1.replace(str1[0:3],\"\")\n",
    "        str1=str1.replace(str1[-3:],\"\")\n",
    "        lastind=str1[-1]\n",
    "        str1=str1[-1]+str1\n",
    "        str1=str1.replace(str1[-1],\"\")\n",
    "        str1=lastind+str1\n",
    "        return str1\n",
    "    \n",
    "match(choice):\n",
    "    case \"E\":\n",
    "        en_str=input(\"Enter String to Encode\")\n",
    "        a=encode_String(en_str)\n",
    "        print(a)\n",
    "    case \"D\":\n",
    "        dec_str=input(\"Enter String to Decode\")\n",
    "        a=decode_String(dec_str)\n",
    "        print(a)\n",
    "    case _:\n",
    "        print(\"INVALID INPUT\")\n",
    "\n"
   ]
  },
  {
   "cell_type": "markdown",
   "id": "527704ce-f60f-4d50-a5a5-7d4992bbcdf6",
   "metadata": {},
   "source": [
    "# DAY41 (SHORT HAND IF-ELSE)"
   ]
  },
  {
   "cell_type": "code",
   "execution_count": 7,
   "id": "047ed9f7-140d-42a1-b06a-c6686ace483f",
   "metadata": {},
   "outputs": [
    {
     "name": "stdin",
     "output_type": "stream",
     "text": [
      "Enter Number 3\n"
     ]
    },
    {
     "name": "stdout",
     "output_type": "stream",
     "text": [
      "Odd\n"
     ]
    },
    {
     "name": "stdin",
     "output_type": "stream",
     "text": [
      "Enter Number 1 6\n",
      "Enter Number 2 7\n",
      "Enter Number 3 5\n"
     ]
    },
    {
     "name": "stdout",
     "output_type": "stream",
     "text": [
      "Number 2 is greator\n"
     ]
    }
   ],
   "source": [
    "# In Python, shorthand if-else (also known as a ternary operator) allows you to write a conditional expression in a more concise way. The syntax is:\n",
    "# value_if_true if condition else value_if_false\n",
    "#Short hand if-else are commonly used when  if-else statement that can be used when the condition being tested is simple \n",
    "# and the code blocks to be executed are short\n",
    "\n",
    "#Odd Even Program using short hand if else \n",
    "no=int(input(\"Enter Number\"))\n",
    "print(\"Even\") if no%2==0 else print(\"Odd\")\n",
    "\n",
    "#Largest No Print b/w three numbers using short hand if else\n",
    "n1=int(input(\"Enter Number 1\"))\n",
    "n2=int(input(\"Enter Number 2\"))\n",
    "n3=int(input(\"Enter Number 3\"))\n",
    "\n",
    "print(\"Number 1 is Greator \") if n1>n2 and n1>n3 else print(\"Number 2 is greator\") if n2>n1 and n2>n3 else print(\"Number 3 is greator\")"
   ]
  },
  {
   "cell_type": "markdown",
   "id": "c52fac4f-3fab-4fa1-b1f2-eab45a018363",
   "metadata": {},
   "source": [
    "# DAY42 (ENUMRATE FUNCTION)"
   ]
  },
  {
   "cell_type": "code",
   "execution_count": 8,
   "id": "6b16055f-ea99-4d0c-9147-386c77afb28f",
   "metadata": {},
   "outputs": [
    {
     "name": "stdout",
     "output_type": "stream",
     "text": [
      "Index 0 Value a\n",
      "Index 1 Value b\n",
      "Index 2 Value c\n",
      "Index 3 Value d\n",
      "Index 4 Value e\n",
      "Index 5 Value f\n",
      "Index 6 Value g\n",
      "Index 7 Value h\n",
      "Index 8 Value i\n",
      "Index 9 Value j\n"
     ]
    }
   ],
   "source": [
    "# The enumerate() function in Python is used to iterate through an iterable (like a list, tuple, or string) while keeping track of both the index \n",
    "# and the value of each item. It’s particularly helpful when you need to work with both the position and content of elements in a loop.\n",
    "alpha=[\"a\",\"b\",\"c\",\"d\",\"e\",\"f\",\"g\",\"h\",\"i\",\"j\"]\n",
    "for i,v in enumerate(alpha):\n",
    "    print(f\"Index {i} Value {v}\")"
   ]
  },
  {
   "cell_type": "code",
   "execution_count": 11,
   "id": "3bddf182-c4df-44ba-82b1-75ac0715b4f8",
   "metadata": {},
   "outputs": [
    {
     "name": "stdout",
     "output_type": "stream",
     "text": [
      "Index 3 Value a\n",
      "Index 4 Value b\n",
      "Index 5 Value c\n",
      "Index 6 Value d\n",
      "Index 7 Value e\n",
      "Index 8 Value f\n",
      "Index 9 Value g\n",
      "Index 10 Value h\n",
      "Index 11 Value i\n",
      "Index 12 Value j\n"
     ]
    }
   ],
   "source": [
    "#We know that index starts from '0' by default but if  we want to start index from any specific range \n",
    "#We can give start point to enumerate function\n",
    "for i,v in enumerate(alpha,start=3):\n",
    "    print(f\"Index {i} Value {v}\")"
   ]
  },
  {
   "cell_type": "code",
   "execution_count": 13,
   "id": "515d7422-afee-49ce-b1a0-faa65b0cbb94",
   "metadata": {},
   "outputs": [
    {
     "name": "stdout",
     "output_type": "stream",
     "text": [
      "0 H\n",
      "1 e\n",
      "2 l\n",
      "3 l\n",
      "4 o\n"
     ]
    }
   ],
   "source": [
    "#We can iterate over tuple ,strings and dictionaries using enumerate()\n",
    "#Over String \n",
    "str1=\"Hello\"\n",
    "for i,v in enumerate(str1):\n",
    "    print(i,v)"
   ]
  },
  {
   "cell_type": "code",
   "execution_count": 14,
   "id": "86861e31-e03f-4c33-b952-759215cb638b",
   "metadata": {},
   "outputs": [
    {
     "name": "stdout",
     "output_type": "stream",
     "text": [
      "0 3\n",
      "1 9\n",
      "2 0\n",
      "3 5\n",
      "4 78\n"
     ]
    }
   ],
   "source": [
    "tup=(3,9,0,5,78)\n",
    "for i,v in enumerate(tup):\n",
    "    print(i,v)"
   ]
  },
  {
   "cell_type": "code",
   "execution_count": 15,
   "id": "972a770d-6656-4563-8c2c-e1bc60c93ec2",
   "metadata": {},
   "outputs": [
    {
     "name": "stdout",
     "output_type": "stream",
     "text": [
      "{0: 'Mango', 1: 'Apple', 2: 'Melon', 3: 'Banana'}\n"
     ]
    }
   ],
   "source": [
    "#we can also create dictionary using enumerate function\n",
    "fruits=[\"Mango\",\"Apple\",\"Melon\",\"Banana\"]\n",
    "dict_fruits={i:v for i,v in enumerate(fruits) }\n",
    "print(dict_fruits)"
   ]
  },
  {
   "cell_type": "markdown",
   "id": "b2e6cbe2-4236-40f2-98cc-968aa1c6888a",
   "metadata": {},
   "source": [
    "# DAY43 (Virtual Environment in Python)"
   ]
  },
  {
   "cell_type": "code",
   "execution_count": 1,
   "id": "000985b0-0f7a-4a6f-8e78-14f2888908f6",
   "metadata": {},
   "outputs": [],
   "source": [
    "#A virtual environment is a tool used to isolate specific Python environments on a single machine, allowing you to work on multiple projects with \n",
    "# different dependencies and packages without conflicts. This can be especially useful when working on projects that have conflicting package \n",
    "# versions or packages that are not compatible with each other.\n",
    "\n",
    "#Some times we work on group projects in which there are mutliple developers working In that project for example 1 developer is \n",
    "#working on version 1.0 of pandas and another developer working on version 2.0 of pandas library of python ,so the person who \n",
    "# has version 1.0 will not be able to run the project of person having version 2.0 ,to overcome this problem in python we can create \n",
    "#virtual enivrinment and install packages in that virtual envirnment and important thing is that packages installed in virtual envirnment will have \n",
    "#no impact on the packages installed in computer,In order to create virtual you can follow folloing steps\n",
    "#create folder in which you want to create virtual envirnemnt  \n",
    "#open command prompt and run following commands \n",
    "#pip install virtualenv\n",
    "#virtualenv myenv\n",
    "#To activiate the virtual envirnment run following command \n",
    "#myenv\\Scripts\\activate.bat\n",
    "#We can also install package of any specific version in virtual envirnment  like pip install pandas==2.0\n",
    "#To deacitvate virtual envirnment run following command \n",
    "#deactivate\n",
    "#we can also create multiple virtual envirnment\n",
    "#packages installed in virtual envirnment will have no impact on the packages installed on global computer\n",
    "#To the list list of packages installed on global python or virtual envirnment run following command \n",
    "#pip freeze > requirement.txt\n",
    "#To install packages available in requirement.txt on some other computer file run following command\n",
    "#pip freeze -r requirement.txt"
   ]
  },
  {
   "cell_type": "markdown",
   "id": "6320d975-82e1-43ce-bbbc-bd349f2ba4df",
   "metadata": {},
   "source": [
    "# DAY44 (HOW IMPORT WORKS)"
   ]
  },
  {
   "cell_type": "code",
   "execution_count": 1,
   "id": "683e07fd-a656-4c6d-abfe-2c210c6318c9",
   "metadata": {},
   "outputs": [],
   "source": [
    "#Importing in python is a process of importing code from python module to the current program ,by importing any package you will \n",
    "#be able to use function,methods in that package.\n",
    "#we can import any package by using import keyword\n",
    "# import math\n",
    "#If we dont want to import module but some of its methods we can do this by using from keyword \n",
    "# from math import sqrt,pi \n",
    "#In the above statement only pi, sqrt function will be imported\n",
    "#if we want to import every thing from any package we can do this by using \"*\" \n",
    "#from math import *\n",
    "#some of the packages of python have quite large name so for that we can write in short using 'as' keyword\n",
    "#import math as m\n",
    "#In the above statement all the functions from math are imported in 'm' now whenever we have to write  math we will write 'm'\n",
    "#'as' keyoword can also be used to import functions\n",
    "#if we want to see all the functions and variables in any package we can see it by using dir() function\n",
    "# dir(math)"
   ]
  },
  {
   "cell_type": "markdown",
   "id": "4bcbd0f8-acdf-49de-8ffd-b65ff0b35e40",
   "metadata": {},
   "source": [
    "# DAY 45 (if __name__==\"main\")"
   ]
  },
  {
   "cell_type": "code",
   "execution_count": 2,
   "id": "f96b6d6e-8186-4415-96da-075de6ba6030",
   "metadata": {},
   "outputs": [
    {
     "name": "stdout",
     "output_type": "stream",
     "text": [
      "Running script directly\n"
     ]
    }
   ],
   "source": [
    "# The if __name__ == \"__main__\" idiom is a common pattern used in Python scripts to determine whether the script is being run directly or being \n",
    "# imported as a module into another script.\n",
    "# In Python, the __name__ variable is a built-in variable that is automatically set to the name of the current module. When a Python script is run \n",
    "#directly, the __name__ variable is set to the string __main__ When the script is imported as a module into another script, the __name__ variable is set\n",
    "# to the name of the module.\n",
    "# Here's an example of how the if __name__ == __main__ idiom can be used\n",
    "def main():\n",
    "    # Code to be run when the script is run directly\n",
    "    print(\"Running script directly\")\n",
    "\n",
    "if __name__ == \"__main__\":\n",
    "    main()"
   ]
  },
  {
   "cell_type": "markdown",
   "id": "9245bbec-fd26-4d2c-a45b-8de20e1b5651",
   "metadata": {},
   "source": [
    "# DAY 46 (OS Module)"
   ]
  },
  {
   "cell_type": "code",
   "execution_count": 10,
   "id": "0b160f20-78ce-4de2-9fa3-b692d3732519",
   "metadata": {},
   "outputs": [],
   "source": [
    "#OS Module is a built in Module that help us in automating the basic Operating System Tasks that we used to do manually \n",
    "import os\n",
    "#To create Directory \n",
    "# os.mkdir(\"data\")\n",
    "#to Create Multiple folders inside the folder\n",
    "# for i in range(0,100):\n",
    "#     os.mkdir(f\"data/Day{i+1}\")\n",
    "#renaming file\n",
    "# for i in range(0,100):\n",
    "#     os.rename(f\"data/Day{i+1}\",f\"data/Tutorial{i+1}\")\n",
    "#To see the number of folders \n",
    "# folders=os.listdir(\"data\")\n",
    "# print(folders)\n",
    "# print(os.getcwd())  # Output: current directory path\n",
    "# https://replit.com/@codewithharry/46-Day-46-os-Module#.tutorial/Tutorial.md"
   ]
  },
  {
   "cell_type": "markdown",
   "id": "a2d34f0c-5db3-404f-a95b-419bf1dd3021",
   "metadata": {},
   "source": [
    "# DAY 47 (EXCERCISE SOLUTION)"
   ]
  },
  {
   "cell_type": "code",
   "execution_count": 11,
   "id": "abc4e936-3856-494b-a65f-097055b238b8",
   "metadata": {},
   "outputs": [],
   "source": [
    "# Write a python program to translate a message into secret code language. Use the rules below to translate normal English into secret code language\n",
    "\n",
    "# Coding:\n",
    "# if the word contains atleast 3 characters, remove the first letter and append it at the end\n",
    "#   now append three random characters at the starting and the end\n",
    "# else:\n",
    "#   simply reverse the string\n",
    "\n",
    "# Decoding:\n",
    "# if the word contains less than 3 characters, reverse it\n",
    "# else:\n",
    "#   remove 3 random characters from start and end. Now remove the last letter and append it to the beginning\n",
    "# Your program should ask whether you want to code or decode"
   ]
  },
  {
   "cell_type": "code",
   "execution_count": 12,
   "id": "ba334183-d2d3-4d7b-bb18-d1ce69d492dc",
   "metadata": {},
   "outputs": [
    {
     "name": "stdin",
     "output_type": "stream",
     "text": [
      "Enter message Python Programming is good\n",
      "1 for Coding or 0 for Decoding 1\n"
     ]
    },
    {
     "name": "stdout",
     "output_type": "stream",
     "text": [
      "True\n",
      "dsfythonPjkr dsfrogrammingPjkr si dsfoodgjkr\n"
     ]
    }
   ],
   "source": [
    "st = input(\"Enter message\")\n",
    "words = st.split(\" \")\n",
    "coding = input(\"1 for Coding or 0 for Decoding\")\n",
    "coding = True if (coding==\"1\") else False\n",
    "print(coding)\n",
    "if(coding):\n",
    "  nwords = []\n",
    "  for word in words:\n",
    "    if(len(word)>=3):\n",
    "      r1 = \"dsf\"\n",
    "      r2 = \"jkr\"\n",
    "      stnew = r1+ word[1:] + word[0] + r2\n",
    "      nwords.append(stnew)\n",
    "    else:\n",
    "      nwords.append(word[::-1])\n",
    "  print(\" \".join(nwords))\n",
    "\n",
    "else:\n",
    "  nwords = []\n",
    "  for word in words:\n",
    "    if(len(word)>=3): \n",
    "      stnew = word[3:-3]\n",
    "      stnew = stnew[-1] + stnew[:-1]\n",
    "      nwords.append(stnew)\n",
    "    else:\n",
    "      nwords.append(word[::-1])\n",
    "  print(\" \".join(nwords))\n",
    "  "
   ]
  },
  {
   "cell_type": "markdown",
   "id": "2db80084-056d-4cc8-9627-4732eac31d4a",
   "metadata": {},
   "source": [
    "# DAY48 (LOCAL AND GLOBAL VARIABLES)"
   ]
  },
  {
   "cell_type": "code",
   "execution_count": 6,
   "id": "c3a52beb-b495-4d56-9d60-a836d52f2119",
   "metadata": {},
   "outputs": [
    {
     "name": "stdout",
     "output_type": "stream",
     "text": [
      "Local Variable x is 6\n",
      "Global Variable x is 5\n",
      "After Changing Value of Global x is 10\n"
     ]
    }
   ],
   "source": [
    "#Variable defined inside the body of the function is called as Local variables and they cannot be used outside the function\n",
    "#Variable defined outside the function is called as Global variable and it can also be used inside the function until the \n",
    "#the variable of same name exist inside the function\n",
    "#local variables destroyed after function returns while global variable donot destoryed they will remian in the program\n",
    "x=5\n",
    "def sayHello():\n",
    "    x=6 #local variable\n",
    "    print(f\"Local Variable x is {x}\")\n",
    "sayHello()\n",
    "print(f\"Global Variable x is {x}\")\n",
    "\n",
    "#To change the value of global x we can use global keyword \n",
    "def changeVal():\n",
    "    global x\n",
    "    x=10\n",
    "    return x\n",
    "val=changeVal()\n",
    "print(f\"After Changing Value of Global x is {x}\")"
   ]
  },
  {
   "cell_type": "markdown",
   "id": "237655aa-5dc4-4b22-aa73-f80cd104918c",
   "metadata": {},
   "source": [
    "# DAY49 (FILE I/O IN PYTHON)"
   ]
  },
  {
   "cell_type": "code",
   "execution_count": 10,
   "id": "aaaf9553-1253-443a-8c8d-c36b9321d266",
   "metadata": {},
   "outputs": [
    {
     "name": "stdout",
     "output_type": "stream",
     "text": [
      "Hello from File.txt this is content of file\n"
     ]
    }
   ],
   "source": [
    "#Files can be open in 03 three modes in python 'r' for reading 'w' for writing and 'a' for appending \n",
    "#if we open file in 'w' write mode we cannot read content of the file\n",
    "#read 'r' read mode is default mode even don't pass the mode in open() method it wiill automatically add 'r' mode to it\n",
    "#if we open file in write mode and file does not exist it will automatically create new file by that name\n",
    "#In write mode if we write any thing in the file then the content already available in the file will be override \n",
    "#if we want to write any thing In the file without deleting the exisiting content of the fiel we need to open the file in 'a' append mode\n",
    "#there is also another mode to create a file which is 'x' mode which create file but if file already exist it will return an error\n",
    "try:\n",
    "    f=open(\"myfile.txt\",'r')\n",
    "    txt=f.read()\n",
    "    print(txt)\n",
    "except FileNotFoundError as e:\n",
    "    print(f\"Error: {e}\")\n",
    "finally:\n",
    "    f.close()"
   ]
  },
  {
   "cell_type": "code",
   "execution_count": 14,
   "id": "35627e4e-4285-4f68-b6ff-c3c6e584a49c",
   "metadata": {},
   "outputs": [],
   "source": [
    "#Opening file in write mode\n",
    "f=open(\"myfile2.txt\",\"w\")\n",
    "txt=f.write(\"This is written using Python\")\n",
    "f.close()"
   ]
  },
  {
   "cell_type": "code",
   "execution_count": 15,
   "id": "d56d26cd-dddd-4c99-9856-3ecbc2399922",
   "metadata": {},
   "outputs": [],
   "source": [
    "#opening file in append mode\n",
    "try:\n",
    "    f=open(\"myfile.txt\",'a')\n",
    "    f.write(\"This is written using Python\")\n",
    "except FileNotFoundError as e:\n",
    "    print(f\"Error {e}\")\n",
    "finally:\n",
    "    f.close()"
   ]
  },
  {
   "cell_type": "code",
   "execution_count": 16,
   "id": "0f3e5de2-7b7b-46ea-84c4-308428ea5aa3",
   "metadata": {},
   "outputs": [],
   "source": [
    "#crearting new file using 'x' mode\n",
    "try:\n",
    "    f=open(\"myfile3.txt\",'x')\n",
    "except:\n",
    "    print(\"File Already Exist\")"
   ]
  },
  {
   "cell_type": "code",
   "execution_count": 17,
   "id": "fb1192fc-3ff7-4c2c-868a-8099df03cd2e",
   "metadata": {},
   "outputs": [
    {
     "name": "stdout",
     "output_type": "stream",
     "text": [
      "File Already Exist\n"
     ]
    }
   ],
   "source": [
    "#Now Trying to create file which is already available using 'x' mode\n",
    "try:\n",
    "    f=open(\"myfile3.txt\",'x')\n",
    "except:\n",
    "    print(\"File Already Exist\")"
   ]
  },
  {
   "cell_type": "code",
   "execution_count": 18,
   "id": "a5cd66b0-314d-4753-8f71-5857f24d1c57",
   "metadata": {},
   "outputs": [],
   "source": [
    "#CLosing file is necessay in python but if we want pytho to automatically close the file we can use with keyword\n",
    "with open(\"myfile.txt\",'a') as f:\n",
    "    f.write(\"Hey i am writing a file using append mode\")"
   ]
  },
  {
   "cell_type": "markdown",
   "id": "17d78dd4-946a-409c-89a7-f0142082ca7b",
   "metadata": {},
   "source": [
    "# DAY 50 (FILE I/O METHODS)"
   ]
  },
  {
   "cell_type": "code",
   "execution_count": 3,
   "id": "5eb70e39-5ca3-4ce2-a60a-4caf17b70611",
   "metadata": {},
   "outputs": [
    {
     "name": "stdout",
     "output_type": "stream",
     "text": [
      "Hello from File.txt this is content of fileThis is written using PythonHey i am writing a file using append mode\n",
      "\n",
      "This line no 2\n",
      "\n",
      "This is line no 3\n",
      "\n"
     ]
    }
   ],
   "source": [
    "with open(\"myfile.txt\",'r') as f:\n",
    "    while True:\n",
    "        line=f.readline()\n",
    "        print(line)\n",
    "        if not line:\n",
    "            break"
   ]
  },
  {
   "cell_type": "code",
   "execution_count": 21,
   "id": "fdf7cc74-d7bb-4a74-84db-17851b15d242",
   "metadata": {},
   "outputs": [
    {
     "name": "stdout",
     "output_type": "stream",
     "text": [
      "Marks of student 1 in Maths is: 23\n",
      "Marks of student 1 in English is: 48\n",
      "Marks of student 1 in SST is: 7723\n",
      "23,48,7723,48,7723,48,77\n",
      "\n",
      "Marks of student 2 in Maths is: 23\n",
      "Marks of student 2 in English is: 48\n",
      "Marks of student 2 in SST is: 77\n",
      "23,48,77\n",
      "\n"
     ]
    }
   ],
   "source": [
    "f = open('myfile2.txt', 'r')\n",
    "i = 0\n",
    "while True:\n",
    "  i = i + 1\n",
    "  line = f.readline()\n",
    "  if not line:\n",
    "    break\n",
    "  m1 = int(line.split(\",\")[0])\n",
    "  m2 = int(line.split(\",\")[1])\n",
    "  m3 = int(line.split(\",\")[2])\n",
    "  print(f\"Marks of student {i} in Maths is: {m1}\")\n",
    "  print(f\"Marks of student {i} in English is: {m2}\")\n",
    "  print(f\"Marks of student {i} in SST is: {m3}\")\n",
    "\n",
    "  print(line)\n",
    "# f.close()"
   ]
  },
  {
   "cell_type": "code",
   "execution_count": 19,
   "id": "05ee3472-f66a-4cde-a845-2f0a8912665d",
   "metadata": {},
   "outputs": [],
   "source": [
    "with open(\"myfile2.txt\",'a') as f:\n",
    "    lines=[\"23,\",\"48,\",\"77\\n\"]\n",
    "    f.writelines(lines)"
   ]
  },
  {
   "cell_type": "markdown",
   "id": "fa753ce0-8920-446c-94f0-2e5ac3cc1726",
   "metadata": {},
   "source": [
    "# DAY 51 (seek(),tell() and Other Functions)"
   ]
  },
  {
   "cell_type": "code",
   "execution_count": 26,
   "id": "ed21e940-8d86-417d-873b-85247628cec0",
   "metadata": {},
   "outputs": [
    {
     "name": "stdout",
     "output_type": "stream",
     "text": [
      "10\n",
      " File\n"
     ]
    }
   ],
   "source": [
    "#seek() method in python help us in reading a file from specific character\n",
    "#tell() methods in python tells the no of characters that are seeked by using seek() method\n",
    "with open(\"myfile.txt\",\"r\") as f:\n",
    "    f.seek(10) #it will go to 10th Character in the file\n",
    "    print(f.tell())\n",
    "    data=f.read(5) # it will read only 5 characters\n",
    "    print(data)"
   ]
  },
  {
   "cell_type": "code",
   "execution_count": 27,
   "id": "cec99734-e684-4d62-9fe1-f31d0344e089",
   "metadata": {},
   "outputs": [],
   "source": [
    "#truncate() method used to limit the file characeters\n",
    "with open(\"sample.txt\",\"w\") as f:\n",
    "    f.write(\"Hello World\")\n",
    "    f.truncate(5)"
   ]
  },
  {
   "cell_type": "markdown",
   "id": "cfb1ae70-d025-4165-8db4-7adde1dd43a5",
   "metadata": {},
   "source": [
    "# DAY 52 (LAMBDA FUNCTIONS)"
   ]
  },
  {
   "cell_type": "code",
   "execution_count": 1,
   "id": "80ae98cd-f756-4561-bb94-6a7d8a37391f",
   "metadata": {},
   "outputs": [
    {
     "name": "stdout",
     "output_type": "stream",
     "text": [
      "3\n",
      "3\n"
     ]
    }
   ],
   "source": [
    "# In Python, a lambda function is a small anonymous function without a name.\n",
    "#Simple python function to add two values\n",
    "def add(a,b):\n",
    "    return a+b\n",
    "print(add(1,2))\n",
    "#lambda function\n",
    "sum=lambda a,b:a+b\n",
    "print(sum(1,2))"
   ]
  },
  {
   "cell_type": "code",
   "execution_count": 1,
   "id": "dde67d2f-dfc7-43b3-9eee-2b2264877b90",
   "metadata": {},
   "outputs": [
    {
     "name": "stdout",
     "output_type": "stream",
     "text": [
      "9\n",
      "Hello Ali\n"
     ]
    }
   ],
   "source": [
    "sq=lambda a:a**2\n",
    "def apply(fun,b):\n",
    "    return 5+fun(b)\n",
    "print(apply(sq,2))\n",
    "\n",
    "name=lambda n:print(f\"Hello {n}\")\n",
    "name(\"Ali\")"
   ]
  },
  {
   "cell_type": "markdown",
   "id": "b6896d31-33dd-4ae8-8587-64292389cb4e",
   "metadata": {},
   "source": [
    "# DAY 53(MAP,FILTER AND REDUCE)"
   ]
  },
  {
   "cell_type": "code",
   "execution_count": 2,
   "id": "0fc7fd22-832d-4138-94ee-f4573c0e6d3b",
   "metadata": {},
   "outputs": [
    {
     "name": "stdout",
     "output_type": "stream",
     "text": [
      "[1, 4, 9, 16, 25]\n"
     ]
    }
   ],
   "source": [
    "#using simple method to find square of number\n",
    "def square(x):\n",
    "    return x**2\n",
    "a=[1,2,3,4,5]\n",
    "newa=[]\n",
    "for i in a:\n",
    "    newa.append(square(i))\n",
    "print(newa)"
   ]
  },
  {
   "cell_type": "code",
   "execution_count": 3,
   "id": "cd3b2d02-9ca5-4342-aafd-338cb5dcda81",
   "metadata": {},
   "outputs": [
    {
     "name": "stdout",
     "output_type": "stream",
     "text": [
      "[1, 4, 9, 16, 25]\n"
     ]
    }
   ],
   "source": [
    "#Above same thing can be done without using loop \n",
    "mlist=map(square,a)\n",
    "print(list(mlist))"
   ]
  },
  {
   "cell_type": "code",
   "execution_count": 4,
   "id": "f330468b-c4f0-4e27-aec3-51de64500aa3",
   "metadata": {},
   "outputs": [
    {
     "name": "stdout",
     "output_type": "stream",
     "text": [
      "[1, 8, 27, 64, 125]\n"
     ]
    }
   ],
   "source": [
    "#we can alsp pass lambda functions to map()\n",
    "clist=map(lambda x:x**3,a)\n",
    "print(list(clist))"
   ]
  },
  {
   "cell_type": "code",
   "execution_count": 6,
   "id": "9f10a70d-cb36-46d6-9598-37820504a552",
   "metadata": {},
   "outputs": [
    {
     "name": "stdout",
     "output_type": "stream",
     "text": [
      "[4, 6, 4, 2, 4, 6, 8, 98, 0, 6, 4, 4, 2, 2, 34, 6, 78, 98, 100]\n"
     ]
    }
   ],
   "source": [
    "#filter() filter elements from list,tuple ,dict on the basis of some condition\n",
    "l=[4,5,6,7,5,4,2,1,3,4,5,6,7,8,7,98,9,0,9,7,6,4,4,3,2,2,34,5,6,7,78,98,9,100]\n",
    "evenlist=filter(lambda x:x%2==0,l)\n",
    "print(list(evenlist)) "
   ]
  },
  {
   "cell_type": "code",
   "execution_count": 9,
   "id": "a91dd4c9-933d-47c2-8731-e56a8217bf6e",
   "metadata": {},
   "outputs": [
    {
     "name": "stdout",
     "output_type": "stream",
     "text": [
      "100\n"
     ]
    }
   ],
   "source": [
    "from functools import reduce\n",
    "max_no=reduce(lambda x,y:x if x>y else y,l)\n",
    "print(max_no)"
   ]
  },
  {
   "cell_type": "code",
   "execution_count": 10,
   "id": "720a8eec-90fb-42f4-b122-8af32bc59242",
   "metadata": {},
   "outputs": [
    {
     "name": "stdout",
     "output_type": "stream",
     "text": [
      "0\n"
     ]
    }
   ],
   "source": [
    "min_no=reduce(lambda x,y:x if x<y else y,l)\n",
    "print(min_no)"
   ]
  },
  {
   "cell_type": "markdown",
   "id": "28cacb0a-5467-4a6a-9f57-69ef86398cf9",
   "metadata": {},
   "source": [
    "# DAY 54(is v ==)"
   ]
  },
  {
   "cell_type": "code",
   "execution_count": 3,
   "id": "d2dfb6ed-10c5-40a3-b640-f15e451061a3",
   "metadata": {},
   "outputs": [
    {
     "name": "stdout",
     "output_type": "stream",
     "text": [
      "True\n",
      "True\n",
      "True\n",
      "True\n",
      "False\n",
      "True\n"
     ]
    }
   ],
   "source": [
    "# is keyword compares exact location of object in memory while == compares values that if the values of the objects are same or not\n",
    "a=3\n",
    "b=3\n",
    "print(a is b) #python will give same memory address to both values as the value is same\n",
    "print(a==b)\n",
    "v1=\"string\"\n",
    "v2=\"string\"\n",
    "print(v1 is v2) #python will give same memory address to both values as the value is same\n",
    "print(v1==v2)\n",
    "t1=(1,2)\n",
    "t2=(1,2)\n",
    "print(t1 is t2)\n",
    "print(t1==t2)"
   ]
  },
  {
   "cell_type": "markdown",
   "id": "77cd47d6-f518-43c6-b3c7-cd756b5a29a1",
   "metadata": {},
   "source": [
    "# DAY 55 (SNAKE,WATER GUN GAME)"
   ]
  },
  {
   "cell_type": "code",
   "execution_count": 1,
   "id": "b1600bef-d10a-4e38-871d-29c2ea36d93f",
   "metadata": {},
   "outputs": [],
   "source": [
    "# Snake, Water and Gun is a variation of the children's game \"rock-paper-scissors\" \n",
    "# where players use hand gestures to represent a snake, water, or a gun. \n",
    "# The gun beats the snake, the water beats the gun, and the snake beats the water. \n",
    "# Write a python program to create a Snake Water Gun game in Python using if-else statements.\n",
    "# Do not create any fancy GUI. Use proper functions to check for win."
   ]
  },
  {
   "cell_type": "code",
   "execution_count": 20,
   "id": "1731df07-6112-42e3-a603-f45b9bf67b72",
   "metadata": {},
   "outputs": [
    {
     "name": "stdin",
     "output_type": "stream",
     "text": [
      "Enter Choice 'S' for Snake , 'W' for Water , 'G' for Gun S\n"
     ]
    },
    {
     "name": "stdout",
     "output_type": "stream",
     "text": [
      "ITS DRAW\n",
      "USER SCORE 0 \n",
      " COMPUTER SCORE 0\n"
     ]
    },
    {
     "name": "stdin",
     "output_type": "stream",
     "text": [
      "DO you want to play Again? (N/Y) W\n",
      "Enter Choice 'S' for Snake , 'W' for Water , 'G' for Gun W\n"
     ]
    },
    {
     "name": "stdout",
     "output_type": "stream",
     "text": [
      "COMPUTER WINS\n",
      "USER SCORE 0 \n",
      " COMPUTER SCORE 1\n"
     ]
    },
    {
     "name": "stdin",
     "output_type": "stream",
     "text": [
      "DO you want to play Again? (N/Y) Y\n",
      "Enter Choice 'S' for Snake , 'W' for Water , 'G' for Gun S\n"
     ]
    },
    {
     "name": "stdout",
     "output_type": "stream",
     "text": [
      "COMPUTER WINS\n",
      "USER SCORE 0 \n",
      " COMPUTER SCORE 2\n"
     ]
    },
    {
     "name": "stdin",
     "output_type": "stream",
     "text": [
      "DO you want to play Again? (N/Y) N\n"
     ]
    },
    {
     "name": "stdout",
     "output_type": "stream",
     "text": [
      "COMPUTER WINS\n",
      "SOCRE SUMMARY \n",
      " USER TOTAL SCORE 0 \n",
      " COMPUTER TOTAL SCORE 2\n"
     ]
    }
   ],
   "source": [
    "import random\n",
    "choices={\n",
    "    \"S\":\"SNAKE\",\n",
    "    \"W\":\"WATER\",\n",
    "    \"G\":\"GUN\"\n",
    "}\n",
    "winning_comb={\n",
    "    (\"S\",\"W\"):\"USER\",\n",
    "    (\"W\",\"G\"):\"USER\",\n",
    "    (\"G\",\"S\"):\"USER\"\n",
    "}\n",
    "user_count=0\n",
    "comp_count=0\n",
    "while True:\n",
    "    choice=input(\"Enter Choice 'S' for Snake , 'W' for Water , 'G' for Gun\")\n",
    "    if choice not in choices:\n",
    "        print(\"INVALID CHOICE\")\n",
    "        continue\n",
    "    comp_choice=random.choice(list(choices.keys()))\n",
    "    if choice==comp_choice:\n",
    "        print(\"ITS DRAW\")\n",
    "    elif (choice,comp_choice) in winning_comb:\n",
    "        print(\"YOU WIN\")\n",
    "        user_count+=1\n",
    "    else:\n",
    "        print(\"COMPUTER WINS\")\n",
    "        comp_count+=1\n",
    "    print(f\"USER SCORE {user_count} \\n COMPUTER SCORE {comp_count}\")\n",
    "    inp=input(\"DO you want to play Again? (N/Y)\").upper()\n",
    "    if inp==\"N\":\n",
    "        break\n",
    "    else:\n",
    "        continue\n",
    "        \n",
    "if user_count>comp_count:\n",
    "    print(\"\\n \\n YOU WIN\")\n",
    "else:\n",
    "    print(\"\\n\\nCOMPUTER WINS\")\n",
    "print(f\"SOCRE SUMMARY \\n USER TOTAL SCORE {user_count} \\n COMPUTER TOTAL SCORE {comp_count}\")"
   ]
  },
  {
   "cell_type": "markdown",
   "id": "69af8e25-abdc-40f0-b651-d412b2b26de4",
   "metadata": {},
   "source": [
    "# DAY 56 (PACKING AND UNPACKING)"
   ]
  },
  {
   "cell_type": "code",
   "execution_count": 14,
   "id": "ff87244d-2ca2-410b-9649-382a38f620d6",
   "metadata": {},
   "outputs": [
    {
     "name": "stdout",
     "output_type": "stream",
     "text": [
      "(1, 2, 3, 4)\n",
      "[1, 2, 3, 4, 5]\n",
      "Karachi\n",
      "Lahore\n",
      "Islamabad\n",
      "Mango\n",
      "Apple\n",
      "Banana\n",
      "1\n",
      "2\n",
      "[5, 6, 7, 8, 9, 10, 11, 12, 13, 14, 15, 16, 17, 18, 19]\n"
     ]
    }
   ],
   "source": [
    "#Packing is the process of packing multiple data in single variable which we have already seen in list,tuple,dictionaries in which\n",
    "#multiple data can be stored in single variable\n",
    "#packing tuple\n",
    "t1=(1,2,3,4)\n",
    "print(t1)\n",
    "#packing list\n",
    "l1=[1,2,3,4,5]\n",
    "print(l1)\n",
    "\n",
    "#Unpacking:In some cases we need to perform operations on some specific values for that we can use unpacking concept in which we can store different\n",
    "#data in differnt variables\n",
    "#unpacking tuple\n",
    "city=(\"Karachi\",\"Lahore\",\"Islamabad\")\n",
    "c1,c2,c3=city #here each variable will save one single  city name c1 will save \"Karachi\" ,c2 will save \"Lahore\" and so on\n",
    "print(c1)\n",
    "print(c2)\n",
    "print(c3)\n",
    "\n",
    "#Unpacking list\n",
    "#we can also unapck list in same way \n",
    "fruits=[\"Mango\",\"Apple\",\"Banana\"]\n",
    "f1,f2,f3=fruits\n",
    "print(f1)\n",
    "print(f2)\n",
    "print(f3)\n",
    "\n",
    "#let say there is a tuple of numbers\n",
    "t2=tuple(i for i in range(1,20))\n",
    "#but we want to use perform operation on first two variavbles and don't to give new variable name to other variable for trst his purpose we will use\n",
    "#only 3 three variable and first 2 varaible  will contain first two values and third value contains all other values \n",
    "v1,v2,_,_,*v3=t2 #_ keyword will ignore the variable and will save other variable in the variable with *\n",
    "print(v1)\n",
    "print(v2)\n",
    "print(v3) #returns list of remaining elements \n",
    "# Above same thing can also be performed with list "
   ]
  },
  {
   "cell_type": "code",
   "execution_count": 23,
   "id": "7a38c762-81f9-4744-a26d-6e5166c4d88d",
   "metadata": {},
   "outputs": [
    {
     "name": "stdout",
     "output_type": "stream",
     "text": [
      "name\n",
      "Age\n",
      "Class\n",
      "name Age Class\n",
      "['name', 'Age', 'Class']\n",
      "{'name': 'Ali', 'Age': 22, 'Class': 4, 'city': 'Khi', 'email': 'abc@gmail.com'}\n"
     ]
    }
   ],
   "source": [
    "#We can also perform unapcking on dictionaries for unpakcing in dictionaries there are two symbols used \n",
    "# * for unpacking keys only\n",
    "# ** for unpakcing key value pairs\n",
    "dict1={\n",
    "    \"name\":\"Ali\",\n",
    "    \"Age\":22,\n",
    "    \"Class\":4\n",
    "}\n",
    "#Unpacking keys\n",
    "n,a,c=dict1\n",
    "k,*k1=dict1\n",
    "\n",
    "print(n)\n",
    "print(a)\n",
    "print(c)\n",
    "\n",
    "print(*dict1)\n",
    "#we can also unpack them in list\n",
    "data=[*dict1]\n",
    "print(data)\n",
    "\n",
    "#Merging dictionaries\n",
    "dict2={\n",
    "    \"city\":\"Khi\",\n",
    "    \"email\":\"abc@gmail.com\"\n",
    "}\n",
    "merged={**dict1,**dict2}\n",
    "print(merged)"
   ]
  },
  {
   "cell_type": "markdown",
   "id": "e3858298-320c-4add-84c5-87ed1159599e",
   "metadata": {},
   "source": [
    "# DAY57(CLASSES AND OBJECTS)"
   ]
  },
  {
   "cell_type": "code",
   "execution_count": 36,
   "id": "a0ddd256-710d-42fb-861c-c005f17ddba4",
   "metadata": {},
   "outputs": [
    {
     "name": "stdout",
     "output_type": "stream",
     "text": [
      "Ali\n",
      "Data Scientist\n",
      "Usman\n",
      "Name:Usman \n",
      "Occuption :Data Scientist \n",
      "Salary:123000\n",
      "None\n",
      "Name:Umer \n",
      "Occuption :Analyst \n",
      "Salary:100000\n",
      "None\n",
      "Name:Ali \n",
      "Occuption :Data Scientist \n",
      "Salary:123000\n",
      "None\n"
     ]
    }
   ],
   "source": [
    "class person: #Creating Class\n",
    "    name=\"Ali\"\n",
    "    occup=\"Data Scientist\"\n",
    "    salary=123000\n",
    "    def info(self): #creating method inside class \n",
    "        #here self means object on which this method is being called\n",
    "        print(f\"Name:{self.name} \\nOccuption :{self.occup} \\nSalary:{self.salary}\")\n",
    "        \n",
    "#Creating object of the class\n",
    "p1=person() \n",
    "print(p1.name)\n",
    "print(p1.occup)\n",
    "#we can also change the values of our variables\n",
    "p1.name=\"Usman\"\n",
    "print(p1.name)\n",
    "print(p1.info()) \n",
    "#we can also create multiple objects of person class\n",
    "p2=person()\n",
    "p2.name=\"Umer\"\n",
    "p2.salary=100000\n",
    "p2.occup=\"Analyst\"\n",
    "print(p2.info())\n",
    "p3=person()\n",
    "print(p3.info())"
   ]
  },
  {
   "cell_type": "markdown",
   "id": "9c00dad8-b762-49ce-bd17-5236a6b31e1c",
   "metadata": {},
   "source": [
    "# DAY58 (CONSTRUCTOR IN PYTHON)"
   ]
  },
  {
   "cell_type": "code",
   "execution_count": 7,
   "id": "43d14516-8719-4337-b285-5bcb58d47d13",
   "metadata": {},
   "outputs": [
    {
     "name": "stdout",
     "output_type": "stream",
     "text": [
      "Huzaifa,HR\n"
     ]
    }
   ],
   "source": [
    "#Constructor help us in creating object ,In some cases we want to create object with some initialization in these cases consturctor help us\n",
    "#there are two types of constructor default constructor and parameterized constructor \n",
    "class employee:\n",
    "    #parametized constructor :accept parameters\n",
    "    def __init__(self,n,o):\n",
    "        self.name=n\n",
    "        self.occ=o\n",
    "    def info(self):\n",
    "        print(f\"{self.name},{self.occ}\")\n",
    "p1=employee(\"Huzaifa\",\"HR\") #Constructor Mehtod wILL Always be called whenever object is created\n",
    "p1.info()"
   ]
  },
  {
   "cell_type": "code",
   "execution_count": 10,
   "id": "3a5e53cf-b888-4d9e-9e2b-35264a0943e5",
   "metadata": {},
   "outputs": [
    {
     "name": "stdout",
     "output_type": "stream",
     "text": [
      "This is constructor method\n",
      "This is constructor method\n"
     ]
    }
   ],
   "source": [
    "class person:\n",
    "    #default constructor\n",
    "    def __init__(self):\n",
    "        print(\"This is constructor method\")\n",
    "p1=person()\n",
    "p2=person()"
   ]
  },
  {
   "cell_type": "markdown",
   "id": "f0f1ccef-023c-489c-852f-03742e1b8123",
   "metadata": {},
   "source": [
    "# DAY59 (DECORATORS IN PYTHON)"
   ]
  },
  {
   "cell_type": "code",
   "execution_count": 10,
   "id": "9430051c-7665-4fee-a265-1e4b3f03c8be",
   "metadata": {},
   "outputs": [
    {
     "name": "stdout",
     "output_type": "stream",
     "text": [
      "Good Morning\n",
      "Hello World\n",
      "Thankyou for using this function\n"
     ]
    }
   ],
   "source": [
    "#Python decorators are a powerful and versatile tool that allow you to modify the behavior of functions and methods. They are a way to extend the functionality of a function or method \n",
    "#without modifying its source code.\n",
    "#decorator is a function that take function as argument and returns a function\n",
    "#The prupose of using decorators is that we make a function but we want something to happen before function is called and something to happen after \n",
    "#function ,for this we can use decorators\n",
    " \n",
    "#Simple Decorator\n",
    "def greet(fx):\n",
    "    def mfx():\n",
    "        print(\"Good Morning\")\n",
    "        fx()\n",
    "        print(\"Thankyou for using this function\")\n",
    "    return mfx\n",
    "@greet\n",
    "def hello():\n",
    "    print(\"Hello World\")\n",
    "\n",
    "hello()"
   ]
  },
  {
   "cell_type": "code",
   "execution_count": 9,
   "id": "9ab57af1-3a9c-41d4-812c-b31c9eac954e",
   "metadata": {},
   "outputs": [
    {
     "name": "stdout",
     "output_type": "stream",
     "text": [
      "You are performing Calculations\n",
      "5\n"
     ]
    }
   ],
   "source": [
    "def calc(fx):\n",
    "    def mfx(*args):\n",
    "        print(\"You are performing Calculations\")\n",
    "        res=fx(*args)\n",
    "        return res\n",
    "    return mfx\n",
    "\n",
    "@calc\n",
    "def add(a,b):\n",
    "    return a+b\n",
    "    \n",
    "res=add(2,3)\n",
    "print(res)"
   ]
  },
  {
   "cell_type": "code",
   "execution_count": 20,
   "id": "05f10b82-2ba3-4174-a5f3-acf79769ed65",
   "metadata": {},
   "outputs": [
    {
     "name": "stdout",
     "output_type": "stream",
     "text": [
      "This is Decorator 1\n",
      "This is Decorator 2\n",
      "Hello\n"
     ]
    }
   ],
   "source": [
    "#we can also add multiple decorators\n",
    "def decorator1(func):\n",
    "    def wrapper():\n",
    "        print(\"This is Decorator 1\")\n",
    "        func()\n",
    "    return wrapper\n",
    "\n",
    "def decorator2(func):\n",
    "    def wrapper():\n",
    "        print(\"This is Decorator 2\")\n",
    "        func()\n",
    "    return wrapper\n",
    "\n",
    "@decorator1\n",
    "@decorator2\n",
    "def sayHello():\n",
    "    print(\"Hello\")\n",
    "\n",
    "\n",
    "sayHello()"
   ]
  },
  {
   "cell_type": "markdown",
   "id": "c4bbf696-cd5e-4a97-b0af-66904c3f735e",
   "metadata": {},
   "source": [
    "# DAY60 (GETTERS AND SETTERS)"
   ]
  },
  {
   "cell_type": "code",
   "execution_count": 7,
   "id": "57e198ab-ae7b-4dea-8810-6f0565025478",
   "metadata": {},
   "outputs": [
    {
     "name": "stdout",
     "output_type": "stream",
     "text": [
      "-50\n"
     ]
    }
   ],
   "source": [
    "#Getter used to get the value of an attribute and setter is used to set the value of an attribute \n",
    "#without getter and setter\n",
    "class Car:\n",
    "    def __init__(self):\n",
    "        self.speed = 0  # Speed attribute\n",
    "\n",
    "car = Car()\n",
    "car.speed = -50  # Someone accidentally set a negative speed\n",
    "print(car.speed)  # This doesn't make sense!"
   ]
  },
  {
   "cell_type": "code",
   "execution_count": 19,
   "id": "bfefde9d-c384-4771-a584-191ae7309c53",
   "metadata": {},
   "outputs": [
    {
     "name": "stdout",
     "output_type": "stream",
     "text": [
      "100\n",
      "Speed cannot be negative\n",
      "100\n"
     ]
    }
   ],
   "source": [
    "class Car:\n",
    "    def __init__(self):\n",
    "        self._speed=0\n",
    "    def get_speed(self):\n",
    "        return self._speed   #getter \n",
    "    def set_speed(self,v):   \n",
    "        if v>0:              \n",
    "            self._speed=v \n",
    "        else:\n",
    "            print(\"Speed cannot be negative\")\n",
    "c1=Car()\n",
    "c1.set_speed(100)\n",
    "print(c1.get_speed())      \n",
    "c1.set_speed(-2)\n",
    "print(c1.get_speed())"
   ]
  },
  {
   "cell_type": "code",
   "execution_count": 20,
   "id": "3f586ed8-8057-4bfb-bf20-485d61d2875e",
   "metadata": {},
   "outputs": [
    {
     "name": "stdout",
     "output_type": "stream",
     "text": [
      "Speed cannot be negative\n",
      "30\n"
     ]
    }
   ],
   "source": [
    "#with decorators\n",
    "class Car:\n",
    "    def __init__(self):\n",
    "        self._speed=0\n",
    "\n",
    "    #using property\n",
    "    @property\n",
    "    def speed(self):\n",
    "        return self._speed\n",
    "    #setter\n",
    "    @speed.setter\n",
    "    def speed(self,value):\n",
    "        if value>0:\n",
    "            self._speed=value\n",
    "        else:\n",
    "            print(\"Speed cannot be negative\")\n",
    "c1=Car()\n",
    "c1.speed=-20\n",
    "c1.speed=30\n",
    "print(c1.speed)"
   ]
  },
  {
   "cell_type": "markdown",
   "id": "033d6f90-e248-4f1b-bfcd-b2f5c6a91198",
   "metadata": {},
   "source": [
    "# DAY61 (INHERITANCE IN PYTHON)"
   ]
  },
  {
   "cell_type": "code",
   "execution_count": 7,
   "id": "404b71a5-1c41-4267-a99b-37b98784e5cb",
   "metadata": {},
   "outputs": [
    {
     "name": "stdout",
     "output_type": "stream",
     "text": [
      "Name:Ali\n",
      "Employee No:123\n",
      "Name:Usman\n",
      "Employee No:345\n",
      "Language:Python\n"
     ]
    }
   ],
   "source": [
    "#If we make class A and add different method to this class and make another class named class B and want that all the methods of class A to be \n",
    "#available to use in class in addition to its own methods this can be done using inheritance\n",
    "# Inheritance in Python is an Object-Oriented Programming (OOP) concept that allows a class (child class) to inherit attributes and methods from \n",
    "# another class (parent class).It promotes code reusability and the creation of hierarchical relationships among classes.\n",
    "# Types of inheritance:\n",
    "# Single inheritance\n",
    "# Multiple inheritance\n",
    "# Multilevel inheritance\n",
    "# Hierarchical Inheritance\n",
    "# Hybrid Inheritan\n",
    "class Employee:\n",
    "    def __init__(self,n,r):\n",
    "        self.name=n\n",
    "        self.no=r\n",
    "    def showDetails(self):\n",
    "        print(f\"Name:{self.name}\\nEmployee No:{self.no}\")\n",
    "\n",
    "#Now we can make another class that will have all the functions of Employee in addition to the method new class\n",
    "class Programmar(Employee):\n",
    "    def showLanguage(self):\n",
    "        print(\"Language:Python\")\n",
    "e1=Employee(\"Ali\",123)\n",
    "e1.showDetails()\n",
    "e2=Programmar(\"Usman\",345) \n",
    "e2.showDetails() #using method of parent class Employee\n",
    "e2.showLanguage()"
   ]
  },
  {
   "cell_type": "markdown",
   "id": "d39c47c4-b339-467c-985f-df132f4fe83c",
   "metadata": {},
   "source": [
    "# DAY62 (ACCESS MODIFIER IN PYTHON)"
   ]
  },
  {
   "cell_type": "code",
   "execution_count": 12,
   "id": "8a0a1cf9-d395-482b-9211-2e6e43a12b2b",
   "metadata": {},
   "outputs": [
    {
     "name": "stdout",
     "output_type": "stream",
     "text": [
      "Umer\n",
      "21\n"
     ]
    }
   ],
   "source": [
    "# Access specifiers or access modifiers in python programming are used to limit the access of class variables and class methods outside of class while \n",
    "# implementing the concepts of inheritance.\n",
    "#In Python Programming there is no public ,private or protected keyword but it is used as convention in some way\n",
    "#Public :can be accessable any where inside or outside the class\n",
    "class Employe:\n",
    "    def __init__(self,name,age):\n",
    "        self.name=name\n",
    "        self.age=age\n",
    "e1=Employe(\"Umer\",21)\n",
    "print(e1.name)\n",
    "print(e1.age)\n",
    "    "
   ]
  },
  {
   "cell_type": "code",
   "execution_count": 21,
   "id": "32ea2351-11d7-4d7e-863e-8cae468bdb61",
   "metadata": {},
   "outputs": [],
   "source": [
    "# In Python, there is no strict concept of \"private\" access modifiers like in some other programming languages. However, a convention has been established \n",
    "# to indicate that a variable or method should be considered private by prefixing its name with a double underscore (__). This is known as a \"weak internal \n",
    "# use indicator\" and it is a convention only, not a strict rule. Code outside the class can still access these \"private\" variables and methods, but it is\n",
    "# generally understood that they should not be accessed or modified.\n",
    "class Student: \n",
    "    def __init__(self, age, name): \n",
    "        self.__age = age      # An indication of private variable\n",
    "        \n",
    "        def __funName(self):  # An indication of private function\n",
    "            self.y = 34\n",
    "            print(self.y)\n",
    "class Subject(Student):\n",
    "    pass\n",
    "obj = Student(21,\"Ali\")\n",
    "obj1 = Subject\n",
    "# calling by object of class Student\n",
    "# print(obj.__age)\n",
    "# print(obj.__funName())\n",
    "# calling by object  of class Subject\n",
    "# print(obj1.__age)\n",
    "# print(obj1.__funName())"
   ]
  },
  {
   "cell_type": "code",
   "execution_count": 24,
   "id": "ee7ef1c4-8c4d-4804-961d-d8b198416b2f",
   "metadata": {},
   "outputs": [
    {
     "name": "stdout",
     "output_type": "stream",
     "text": [
      "I am a nonmangled attribute\n",
      "I am a mangled attribute\n"
     ]
    }
   ],
   "source": [
    "# Name mangling in Python is a technique used to protect class-private and superclass-private attributes from being accidentally overwritten by subclasses. Names of class-private and \n",
    "# superclass-private attributes are transformed by the addition of a single leading underscore and a double leading underscore respectively.\n",
    "#Private attribute can be accessed by using name mangling technnique\n",
    "class MyClass:\n",
    "    def __init__(self):\n",
    "        self._nonmangled_attribute = \"I am a nonmangled attribute\"\n",
    "        self.__mangled_attribute = \"I am a mangled attribute\"\n",
    "\n",
    "my_object = MyClass()\n",
    "\n",
    "print(my_object._nonmangled_attribute) # Output: I am a nonmangled attribute\n",
    "# print(my_object.__mangled_attribute) # Throws an AttributeError\n",
    "print(my_object._MyClass__mangled_attribute) # Output: I am a mangled attribute"
   ]
  },
  {
   "cell_type": "code",
   "execution_count": 25,
   "id": "d8c9c239-808f-4843-9510-2e1457f41307",
   "metadata": {},
   "outputs": [
    {
     "name": "stdout",
     "output_type": "stream",
     "text": [
      "Harry\n",
      "CodeWithHarry\n",
      "Harry\n",
      "CodeWithHarry\n"
     ]
    }
   ],
   "source": [
    "class Student:\n",
    "    def __init__(self):\n",
    "        self._name = \"Harry\"\n",
    "\n",
    "    def _funName(self):      # protected method\n",
    "        return \"CodeWithHarry\"\n",
    "\n",
    "class Subject(Student):       #inherited class\n",
    "    pass\n",
    "\n",
    "obj = Student()\n",
    "obj1 = Subject()\n",
    "\n",
    "# calling by object of Student class\n",
    "print(obj._name)      \n",
    "print(obj._funName())     \n",
    "# calling by object of Subject class\n",
    "print(obj1._name)    \n",
    "print(obj1._funName())"
   ]
  },
  {
   "cell_type": "code",
   "execution_count": null,
   "id": "3ed054e3-75f8-47b3-aef1-497cf493391d",
   "metadata": {},
   "outputs": [],
   "source": []
  }
 ],
 "metadata": {
  "kernelspec": {
   "display_name": "Python 3 (ipykernel)",
   "language": "python",
   "name": "python3"
  },
  "language_info": {
   "codemirror_mode": {
    "name": "ipython",
    "version": 3
   },
   "file_extension": ".py",
   "mimetype": "text/x-python",
   "name": "python",
   "nbconvert_exporter": "python",
   "pygments_lexer": "ipython3",
   "version": "3.11.7"
  }
 },
 "nbformat": 4,
 "nbformat_minor": 5
}
