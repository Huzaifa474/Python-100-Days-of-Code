{
 "cells": [
  {
   "cell_type": "markdown",
   "id": "7c6ba330-e651-43b1-9a60-a40c423c2475",
   "metadata": {},
   "source": [
    "# Day-1"
   ]
  },
  {
   "cell_type": "code",
   "execution_count": 4,
   "id": "4df554a3-95a1-4605-b5f5-2dcd9779af75",
   "metadata": {},
   "outputs": [
    {
     "name": "stdout",
     "output_type": "stream",
     "text": [
      "Hello World\n"
     ]
    }
   ],
   "source": [
    "#Python is dynamically typed Object Oriented Programming languge made by Guido Van Russom in 1991\n",
    "# While Working on making python Guido Van Russom was watching python circus show and he thought to give this langauge name as Python \n",
    "#Programming is a way to tell computer what to do\n",
    "#We Use Programming language to talk to computer like C,C++,Java,Python etc\n",
    "#Python is a interpreted high level programming language\n",
    "\n",
    "#Features\n",
    "#Simple\n",
    "#Platform independent : means if you write code on windows and run it on linux it will work\n",
    "#Open source \n",
    "#very big library support\n",
    "#easy to integrate with other programming langauges\n",
    "print(\"Hello World\")"
   ]
  },
  {
   "cell_type": "markdown",
   "id": "79a488f0-ec81-42d6-9e19-ac0f65e316c9",
   "metadata": {},
   "source": [
    "# DAY2"
   ]
  },
  {
   "cell_type": "code",
   "execution_count": 2,
   "id": "aa9d254e-c385-4a99-94db-3fd3a402db0c",
   "metadata": {},
   "outputs": [],
   "source": [
    "#Some Amazing Python Porgrams "
   ]
  },
  {
   "cell_type": "markdown",
   "id": "57c9fd7f-324b-4b03-9c8e-cd4f86412ccd",
   "metadata": {},
   "source": [
    "# DAY3"
   ]
  },
  {
   "cell_type": "code",
   "execution_count": 3,
   "id": "5ddc12ce-88b7-4e03-a587-515ef7ee35a3",
   "metadata": {},
   "outputs": [],
   "source": [
    "#Modules and pip \n",
    "#Modules are used to borrow code witten by somebody else in our python program There are mainly two types of modules in python \n",
    "#Built In Modules\n",
    "#External Modules\n",
    "#Built In modules are available by default in python and we do not have to install them explicitly.\n",
    "#Extrernal Modules are modules which are not available by default in python and we have to install them explicitly by using pip command .\n",
    "#pip is package manager used to install different external modules in python "
   ]
  },
  {
   "cell_type": "markdown",
   "id": "d12a0692-8c91-4717-adf9-aa178d962d57",
   "metadata": {},
   "source": [
    "# DAY4"
   ]
  },
  {
   "cell_type": "code",
   "execution_count": 5,
   "id": "b9e5d1ce-f278-44de-a985-9dc372e59104",
   "metadata": {},
   "outputs": [
    {
     "name": "stdout",
     "output_type": "stream",
     "text": [
      "Hello World\n",
      "5\n",
      "Bye\n"
     ]
    }
   ],
   "source": [
    "print(\"Hello World\")\n",
    "#print() is a built in functions in python used to display anything on the screen after ruuning the program.\n",
    "print(5)\n",
    "print(\"Bye\")\n",
    "#Script means code will be executed line by line "
   ]
  },
  {
   "cell_type": "markdown",
   "id": "9f95ca64-a602-4870-9646-962efe1449b7",
   "metadata": {},
   "source": [
    "# DAY5"
   ]
  },
  {
   "cell_type": "code",
   "execution_count": 6,
   "id": "e2afd1c9-d9d4-4506-bc78-df58b59e3d4d",
   "metadata": {},
   "outputs": [
    {
     "name": "stdout",
     "output_type": "stream",
     "text": [
      "I am Pakistani \n",
      "  and I love Pakistan\n",
      "I am 'Pakistani' \n",
      "  and I love \"Pakistan\"\n",
      "Hey#6#7000"
     ]
    }
   ],
   "source": [
    "#Whenever we write a Program sometime we want that some part of code not excute for that we use comments\n",
    "#Comments are part of code that will not execute at the time of runnung the program\n",
    "#Comments are useful in way that if you write any code today with comments then even if you that code after 6 month you wont find any difficulty in \n",
    "#understanding the code \n",
    "#Comments are also useful when working in project in a team \n",
    "#Comments are mainly of two types \n",
    "# single line comment (#)\n",
    "# multiline comment (\" ''' ''' \") triple quotes\n",
    "#multiline comment is not recomended \n",
    "# short cut for single line comment ctrl+/ \n",
    "\n",
    "#Escape Sequence\n",
    "print(\"I am Pakistani \\n  and I love Pakistan\") #\\n new line \n",
    "print(\"I am \\'Pakistani\\' \\n  and I love \\\"Pakistan\\\"\") #\\\"\"\\ for double quotes\n",
    "\n",
    "# PRINT STATEMENT\n",
    "# Print statement is used to  display message on screen  \n",
    "print(\"Hey\",6,7,sep=\"#\",end=\"000\")\n",
    "# sep=Separator  after every new argument \n",
    "# end=What you want to be in the end of line \n"
   ]
  },
  {
   "cell_type": "markdown",
   "id": "b448221e-a2cb-461c-9405-81d8a7dd9dbc",
   "metadata": {},
   "source": [
    "# DAY6"
   ]
  },
  {
   "cell_type": "code",
   "execution_count": 7,
   "id": "bfb7aadb-b329-4062-b27d-ddc2903cad9f",
   "metadata": {},
   "outputs": [
    {
     "name": "stdout",
     "output_type": "stream",
     "text": [
      "1\n",
      "Huzaifa\n",
      "<class 'int'>\n",
      "<class 'str'>\n",
      "<class 'bool'>\n",
      "<class 'NoneType'>\n"
     ]
    }
   ],
   "source": [
    "#Variables are the containers used to store ,data in variables store in RAM or Varible are containers that holds data very similiar to home kitchen \n",
    "#where container holds sugar ,another container holds rice etc\n",
    "#creating a variable is just like creating a placeholder in memory \n",
    "a=1 #store 1 in memory and its address to  'a' so whenever we use 'a' in our program it will go its address and get the value from there\n",
    "print(a)\n",
    "b=\"Huzaifa\"\n",
    "print(b)\n",
    "#Datatypes can be defined as \"type of data stored in a variable is called as data type it can be string,int,float etc\"\n",
    "a=1 #Integer\n",
    "b=\"Huzaifa\"#String\n",
    "c=True #Boolean\n",
    "d=None #none\n",
    "e=1.1 #float\n",
    "f=complex(8,2) #complex number\n",
    "g=[1,2,3,4,True,\"Hello\"] #list\n",
    "h=(1,2,3,4,5) #tuple\n",
    "h={\"key\":\"value\"} #Dictionary\n",
    "#In Python every thing is object\n",
    "#To Check the type of data we can use type() function\n",
    "print(type(a))\n",
    "print(type(b))\n",
    "print(type(c))\n",
    "print(type(d))\n"
   ]
  },
  {
   "cell_type": "markdown",
   "id": "b0d7681e-1c64-4f00-81b7-fdfe15613665",
   "metadata": {},
   "source": [
    "# DAY 7"
   ]
  },
  {
   "cell_type": "code",
   "execution_count": 9,
   "id": "cfb101aa-76c4-4386-b46d-8052f13856ce",
   "metadata": {},
   "outputs": [
    {
     "name": "stdout",
     "output_type": "stream",
     "text": [
      "15\n",
      "5\n",
      "50\n",
      "2.0\n",
      "3\n",
      "100\n",
      "0\n"
     ]
    },
    {
     "data": {
      "text/plain": [
       "3.3333333333333335"
      ]
     },
     "execution_count": 9,
     "metadata": {},
     "output_type": "execute_result"
    }
   ],
   "source": [
    "# OPERATORS IN PYTHON\n",
    "# Following Arithmetic Operations are mostly performed in Python\n",
    "\n",
    "print(10+5) #Addition\n",
    "print(10-5) #Subraction\n",
    "print(10*5) #Multiplication\n",
    "print(10/5) #Division\n",
    "\n",
    "print(10//3) #Floor Division\n",
    "# Floor Division Operation neglect the decimal point after the result of division \n",
    "# For Example\n",
    "# Using Simple Division \n",
    "# 10/3=3.33\n",
    "# But if we Use Floor Division\n",
    "# 10//3=3  it will not count values after decimal  \n",
    "\n",
    "print(10**2) #Power\n",
    "print(10%5) #Modulus\n",
    "# When  Performing Division remainder is result of Modulus Operator\n",
    "# For Example\n",
    "10/3 \n",
    "# If we divide 10 by 3 it will not completely divide 3x3=9 so 1 will be remainder \n",
    "# So remainder operator will give us remainder of the division \n"
   ]
  },
  {
   "cell_type": "markdown",
   "id": "b9a5e5c7-71b2-47aa-b824-863fc60745b0",
   "metadata": {},
   "source": [
    "# Exercise no 1 "
   ]
  },
  {
   "cell_type": "code",
   "execution_count": 11,
   "id": "8681a4b0-8ce0-4f79-8aac-638eda7a111d",
   "metadata": {},
   "outputs": [
    {
     "name": "stdout",
     "output_type": "stream",
     "text": [
      "Addition 60\n",
      "Subraction -40\n",
      "Multiplication 500\n",
      "Division 0.2\n"
     ]
    }
   ],
   "source": [
    "#Create Simple Calculator Using Python \n",
    "no1=10\n",
    "no2=50\n",
    "print(\"Addition\",no1+no2)\n",
    "print(\"Subraction\",no1-no2)\n",
    "print(\"Multiplication\",no1*no2)\n",
    "print(\"Division\",no1/no2)"
   ]
  },
  {
   "cell_type": "markdown",
   "id": "82d846fa-7eaf-4a01-adf4-cd5cc2462d1c",
   "metadata": {},
   "source": [
    "# DAY8"
   ]
  },
  {
   "cell_type": "code",
   "execution_count": 12,
   "id": "9797fe1d-28de-461f-bc28-bb0c6fcc93f6",
   "metadata": {},
   "outputs": [],
   "source": [
    "#Solution to Exercise 1"
   ]
  },
  {
   "cell_type": "markdown",
   "id": "e429a714-bd6b-421f-9557-081cf702178c",
   "metadata": {},
   "source": [
    "# DAY 9 (TYPE CASTING)"
   ]
  },
  {
   "cell_type": "code",
   "execution_count": 1,
   "id": "d6c23404-84ab-4405-ae0e-5330c0cfb7f4",
   "metadata": {},
   "outputs": [
    {
     "name": "stdout",
     "output_type": "stream",
     "text": [
      "30\n",
      "27.0\n",
      "3.0\n",
      "4\n",
      "4.6\n",
      "3\n",
      "27\n"
     ]
    }
   ],
   "source": [
    "#Type Casting \n",
    "#For Example we have write number in double quotes ,so it is string and we add 3 into it ,python will through an error \n",
    "#that it can't add integer to string here the concept of type casting came that convert of one data type into other \n",
    "# a=\"27\"\n",
    "# b=3\n",
    "# print(a+b)\n",
    "\n",
    "a=\"27\"\n",
    "b=3\n",
    "c=4.6\n",
    "print(int(a)+b) #Here we add convert string into integer by using   int() function\n",
    "#String to float\n",
    "print(float(a))\n",
    "#Integer to float\n",
    "print(float(b))\n",
    "#float to Integer\n",
    "print(int(c))\n",
    "#float to String\n",
    "print(str(c))\n",
    "#Integer to String\n",
    "print(str(b))\n",
    "#String to Integer\n",
    "print(int(a))\n",
    "\n",
    "# There are two types of Type Casting \n",
    "# Explict Typecasting (Typecasting done by developer or programmer)\n",
    "# Implicit Typecasting:Typecasting done by python automatically accroding to priority levels like if add 3 to 3.9 it will give us 6.9 which \n",
    "# is float number\n"
   ]
  },
  {
   "cell_type": "markdown",
   "id": "8d773c1f-1470-4f50-a4b2-07a144c50d21",
   "metadata": {},
   "source": [
    "# DAY10 (USER INPUT)"
   ]
  },
  {
   "cell_type": "code",
   "execution_count": 4,
   "id": "d1deee97-3cd6-48b7-8794-751179dea379",
   "metadata": {},
   "outputs": [
    {
     "name": "stdout",
     "output_type": "stream",
     "text": [
      "Enter Your Name ABC\n"
     ]
    },
    {
     "name": "stdout",
     "output_type": "stream",
     "text": [
      "<class 'str'>\n"
     ]
    },
    {
     "name": "stdout",
     "output_type": "stream",
     "text": [
      "Enter Number 2\n"
     ]
    },
    {
     "name": "stdout",
     "output_type": "stream",
     "text": [
      "<class 'int'>\n"
     ]
    },
    {
     "name": "stdout",
     "output_type": "stream",
     "text": [
      "Enter Floating Number 2.5\n"
     ]
    },
    {
     "name": "stdout",
     "output_type": "stream",
     "text": [
      "<class 'float'>\n"
     ]
    }
   ],
   "source": [
    "#Userinput in Python can be taken by using input() function by default it takes string input which can be converted into \n",
    "#diferent data types as per the requirement \n",
    "inp1=input(\"Enter Your Name\")\n",
    "print(type(inp1))\n",
    "#Integer Input\n",
    "inp2=int(input(\"Enter Number\"))\n",
    "print(type(inp2))\n",
    "#Float Input\n",
    "inp3=float(input(\"Enter Floating Number\"))\n",
    "print(type(inp3))"
   ]
  },
  {
   "cell_type": "markdown",
   "id": "cc177314-9275-44de-b972-a79ae09997c4",
   "metadata": {},
   "source": [
    "# DAY11 (STRINGS)"
   ]
  },
  {
   "cell_type": "code",
   "execution_count": 9,
   "id": "6bdfe842-5c1b-46c2-b84e-a68ac4ac8074",
   "metadata": {},
   "outputs": [
    {
     "name": "stdout",
     "output_type": "stream",
     "text": [
      "He said \"he had eat an apple\"\n",
      "Hello I am Huzaifa\n",
      "I am Programming in Python\n",
      "\n",
      "H\n",
      "a\n",
      "H\n",
      "H\n",
      "u\n",
      "z\n",
      "a\n",
      "i\n",
      "f\n",
      "a\n",
      "True\n"
     ]
    }
   ],
   "source": [
    "#Strings in Python\n",
    "#Strings can be made by enclosing any value b/w quotes\n",
    "#Strings are an array of textual data \n",
    "#Strings are used when working with Unicode characters\n",
    "name=\"Huzaifa\"\n",
    "#Double quotes in strings\n",
    "txt='He said \"he had eat an apple\"'\n",
    "print(txt)\n",
    "#Multiline Strings\n",
    "mulstr='''Hello I am Huzaifa\n",
    "I am Programming in Python\n",
    "'''\n",
    "print(mulstr)\n",
    "#String follows indexing which starts from 0\n",
    "#name= \" H  U  Z  A  I  F  A\"\n",
    "#name= \" 0  1  2  3  4  5  6\"\n",
    "print(name[0])\n",
    "print(name[6])\n",
    "\n",
    "#In the above example we can see that last index no is 6 but if we \n",
    "#try print(name[7]) it will through an index error which means nothing found at index 7\n",
    "\n",
    "#Negative Indexing can also be used which starts from -1\n",
    "#name= \" H  U  Z  A  I  F  A\"\n",
    "#name= \"-7 -6 -5 -4 -3 -2 -1\"\n",
    "print(name[-7])\n",
    "\n",
    "#for loop in Strings\n",
    "for i in name:\n",
    "    print(i)\n",
    "\n",
    "#using 'in' keyword in string to test the conditio\n",
    "print(\"Python\" in mulstr)"
   ]
  },
  {
   "cell_type": "markdown",
   "id": "6d23c534-602f-4fc9-b0e5-371147226c7f",
   "metadata": {},
   "source": [
    "# DAY12 (STRING SLICING)"
   ]
  },
  {
   "cell_type": "code",
   "execution_count": 18,
   "id": "29e7f738-caab-49ba-85d8-f49c49d7ff81",
   "metadata": {},
   "outputs": [
    {
     "name": "stdout",
     "output_type": "stream",
     "text": [
      "17\n",
      "Apple\n",
      "Apple\n",
      "Apple,Mango,Melon\n",
      "Mango,Melon\n",
      "Mango\n",
      "Mango\n"
     ]
    }
   ],
   "source": [
    "#To find length of string we use len() function\n",
    "str=\"Apple,Mango,Melon\"\n",
    "print(len(str))\n",
    "#Slicing\n",
    "#Retriving specific sequence of String from original string is called slining for example\n",
    "#str [ 0            :    5      ]\n",
    "#str[starting index:ending index]   \n",
    "print(str[0:5])\n",
    "#here in the above example we can see that 5 characters are printed slicing will not include the last index \n",
    "# a p p l e \n",
    "# 0 1 2 3 4\n",
    "#Apple has index starting from 0 and ending at 4 but to print whole word we need to mention end point + 1 index\n",
    "#Even if we don't mention the starting index in slicing it will considered that starting index is 0\n",
    "print(str[:5])\n",
    "#If we dont mention both starting and ending index python will add 0 starting location go till the end\n",
    "print(str[:])\n",
    "#If we dont add ending position then python will considered it to till end \n",
    "print(str[6:])\n",
    "\n",
    "#Same as Negative indexing n,negiative slicing can also be done \n",
    "print(str[-11:-6])\n",
    "#str[len(str)-11:len(str)-6]\n",
    "#str[17-11:17-6]\n",
    "#str[6:11]\n",
    "#Here is how we retrive the fruit name mango from string \n",
    "print(str[6:11]) #By using Simple Slicing "
   ]
  },
  {
   "cell_type": "markdown",
   "id": "b5a3f099-218b-4ebc-ad9b-d3b761a5066c",
   "metadata": {},
   "source": [
    "# DAY 13 (STRING METHODS)"
   ]
  },
  {
   "cell_type": "code",
   "execution_count": 1,
   "id": "b033103d-3f2b-490c-9b58-5c030e4ae58f",
   "metadata": {},
   "outputs": [
    {
     "name": "stdout",
     "output_type": "stream",
     "text": [
      "14\n",
      "ALI IS GOOD @@\n",
      "ali is good @@\n",
      "Ali is good \n",
      "Ali is good !!\n",
      "['Ali', 'is', 'good', '@@']\n",
      "Ali is good @@\n",
      "                  Ali is good @@                  \n",
      "2\n",
      "True\n",
      "False\n",
      "4\n",
      "4\n",
      "False\n",
      "False\n",
      "False\n",
      "False\n",
      "True\n",
      "False\n",
      "False\n",
      "False\n",
      "aLI IS GOOD @@\n",
      "Ali Is Good @@\n"
     ]
    }
   ],
   "source": [
    "#String Methods\n",
    "a=\"Ali is good @@\"\n",
    "print(len(a)) #returns length of String\n",
    "#Strings are immutable and cannot be changed\n",
    "print(a.upper()) #returns new string into uppercase\n",
    "print(a.lower()) #returns new String into lowercase\n",
    "print(a.rstrip(\"@\"))#returns new string and remove special chars from the end of string\n",
    "print(a.replace(\"@\",\"!\"))#returns new string and replace all occurance of mentioned string with desired string\n",
    "print(a.split(\" \"))#split the string and returns list\n",
    "print(a.capitalize()) #return new string and capitalize first letter of the string\n",
    "print(a.center(50)) #Add Spaces to the String\n",
    "print(a.count(\"@\")) #returns no of occurances of any char / word\n",
    "print(a.endswith(\"@\")) #returns true or false \n",
    "print(a.endswith(\"a\",0,7)) #returns true or false \n",
    "print(a.find(\"is\"))#retruns index of the first occurance of string and returns -1 if not found\n",
    "print(a.index(\"is\"))#retruns index of the first occurance of string and returns error if not found\n",
    "print(a.isalnum())#if the string is Alphanumeric (A-Z,a-z,0-9)\n",
    "print(a.isalpha())#i the string is numeric (A-Z,a-z)\n",
    "print(a.islower()) # if all the chars are in lowercase\n",
    "print(a.isupper()) # if all the chars are in uppercase\n",
    "print(a.isprintable())#Non Printable chars : escape chars like \\n ,\\t\n",
    "print(a.isspace())#if string contains wide spaces\n",
    "print(a.istitle())# if the first letter is capital\n",
    "print(a.startswith(\"h\"))#returns true or false\n",
    "print(a.swapcase())#convert to uppercase if the string is in lowercase or vice verse\n",
    "print(a.title())#Convert first letter of each word to uppercase\n"
   ]
  },
  {
   "cell_type": "markdown",
   "id": "fb638598-e3c5-4eb8-8eb9-cdca67f90c76",
   "metadata": {},
   "source": [
    "# DAY14 (if-else)"
   ]
  },
  {
   "cell_type": "code",
   "execution_count": 19,
   "id": "12314e7b-51df-4b9b-bb9c-df454a623281",
   "metadata": {},
   "outputs": [
    {
     "name": "stdout",
     "output_type": "stream",
     "text": [
      "Enter number 2\n"
     ]
    },
    {
     "name": "stdout",
     "output_type": "stream",
     "text": [
      "False\n",
      "True\n",
      "False\n",
      "True\n",
      "False\n",
      "True\n",
      "else block\n",
      "Out of Else\n",
      "Positive Number\n"
     ]
    },
    {
     "name": "stdout",
     "output_type": "stream",
     "text": [
      "Enter Number 4\n"
     ]
    },
    {
     "name": "stdout",
     "output_type": "stream",
     "text": [
      "You Entered Number b/w 1-10\n"
     ]
    }
   ],
   "source": [
    "#if we want to take any decesions using programming we use conditional statement ,In Python condtional statements are if,else,elif\n",
    "#condtional operators\n",
    "# >,<,>=,<=,!=,==\n",
    "no=int(input(\"Enter number\"))\n",
    "print(no>18)#greator then \n",
    "print(no<18)#less then \n",
    "print(no>=18)#greator thento or euqal  \n",
    "print(no<=18)#less then or equals to \n",
    "print(no==18)#Equals to \n",
    "print(no!=18)#Not Equals to\n",
    "if no>18:\n",
    "    print(\"if block\")\n",
    "else:\n",
    "    print(\"else block\")\n",
    "#In the above program if have given no condtion that if no is greator than 18 then if block will execute otherwise else block will execute\n",
    "print(\"Out of Else\")\n",
    "\n",
    "#Sometimes we had multiple conditions to test ,In these scanrios we elif \n",
    "if no>0:\n",
    "    print(\"Positive Number\")\n",
    "elif no<0:\n",
    "    print(\"Negative Number\")\n",
    "else:\n",
    "    print(\"Zero Entered\")\n",
    "#We can add multiple elif as per the requirements\n",
    "\n",
    "#Nested if-else :using if condition with in if condition\n",
    "no1=int(input(\"Enter Number\"))\n",
    "if no1<0:\n",
    "    print(\"Negative Number\")\n",
    "elif no1>0:\n",
    "    if no1<=10:\n",
    "        print(\"You Entered Number b/w 1-10\")\n",
    "    elif no1>10 and no1<=20:\n",
    "        print(\"You Entered Number b/w 11-20\")\n",
    "    else:\n",
    "        print(\"Number is greator than 20\")\n",
    "else:\n",
    "    print(\"You Entered 0\")"
   ]
  },
  {
   "cell_type": "markdown",
   "id": "0f00fe05-0d1b-4f57-a4b6-43b19a2cdf06",
   "metadata": {},
   "source": [
    "# DAY15 (Exercise 2)"
   ]
  },
  {
   "cell_type": "code",
   "execution_count": 41,
   "id": "c0d7e9cf-6094-41e9-ba6a-4600c888c23c",
   "metadata": {},
   "outputs": [
    {
     "name": "stdout",
     "output_type": "stream",
     "text": [
      "18\n",
      "Good Evening\n"
     ]
    }
   ],
   "source": [
    "#Greet user Good Morning ,Good After noon ,Good Evening or Good Night as per time\n",
    "import time\n",
    "#For the Unix system, January 1, 1970, 00:00:00 at UTC is epoch.\n",
    "s=time.time() #returns no of seconds from 1970 \n",
    "local_time=time.ctime(s)\n",
    "hour=local_time[11:13]\n",
    "hour=int(hour)\n",
    "print(hour)\n",
    "if hour>=0 and hour <5:\n",
    "    print(\"Good Night\")\n",
    "elif hour>=5 and hour<12:\n",
    "    print(\"Good Morining\")\n",
    "elif hour>12 and hour <15:\n",
    "    print(\"Good After Noon\")\n",
    "else:\n",
    "    print(\"Good Evening\")"
   ]
  },
  {
   "cell_type": "code",
   "execution_count": 42,
   "id": "cce301af-4f00-480b-9971-327f8b4c1746",
   "metadata": {},
   "outputs": [
    {
     "name": "stdout",
     "output_type": "stream",
     "text": [
      "18:56:00\n",
      "18\n",
      "56\n",
      "00\n"
     ]
    }
   ],
   "source": [
    "import time\n",
    "timestamp = time.strftime('%H:%M:%S')\n",
    "print(timestamp)\n",
    "timestamp = time.strftime('%H')\n",
    "print(timestamp)\n",
    "timestamp = time.strftime('%M')\n",
    "print(timestamp)\n",
    "timestamp = time.strftime('%S')\n",
    "print(timestamp)\n",
    "# https://docs.python.org/3/library/time.html#time.strftime"
   ]
  },
  {
   "cell_type": "markdown",
   "id": "06103989-c9e9-4806-8265-f6deac3da1cf",
   "metadata": {},
   "source": [
    "# DAY 16 (MATCH CASE)"
   ]
  },
  {
   "cell_type": "code",
   "execution_count": 4,
   "id": "e36e0b72-f94a-4f58-885a-dbcb663b7f94",
   "metadata": {},
   "outputs": [
    {
     "name": "stdout",
     "output_type": "stream",
     "text": [
      "Enter Operation you want to perform *\n",
      "Enter Number 1 4\n",
      "Enter Number 2 6\n"
     ]
    },
    {
     "name": "stdout",
     "output_type": "stream",
     "text": [
      "4 * 6 = 24\n"
     ]
    }
   ],
   "source": [
    "#In Python we have Match case which is a advance addition in Python ,it was released in Python 10 previous versions dont support\n",
    "#this match case.\n",
    "#match case is like switch case which is used in many other programming languages like java,C,C++,JS etc\n",
    "#switch and match case almost work same but there is small difference which is ,In swich case we need 'break' statement to stop other cases to execute \n",
    "#but in match case we dont need break statemnent it will only execute the case which match the condition\n",
    "opr=input(\"Enter Operation you want to perform\")\n",
    "no1=int(input(\"Enter Number 1\"))\n",
    "no2=int(input(\"Enter Number 2\"))\n",
    "match opr:\n",
    "    case \"+\":\n",
    "        print(no1,\"+\",no2,\"=\",no1+no2)\n",
    "    case \"-\":\n",
    "        print(no1,\"-\",no2,\"=\",no1-no2)\n",
    "    case \"*\":\n",
    "        print(no1,\"*\",no2,\"=\",no1*no2)\n",
    "    case \"/\":\n",
    "        print(no1,\"/\",no2,\"=\",no1/no2)\n",
    "    case _: #Default case which will executed in case no condition matches\n",
    "        print(\"Invalid Operations Entered\")"
   ]
  },
  {
   "cell_type": "code",
   "execution_count": 7,
   "id": "98fa3628-9b34-4198-b4c7-7e1a20118260",
   "metadata": {},
   "outputs": [
    {
     "name": "stdout",
     "output_type": "stream",
     "text": [
      "Enter characher v\n"
     ]
    },
    {
     "name": "stdout",
     "output_type": "stream",
     "text": [
      "You Entered Non Vowel Aplabet\n"
     ]
    }
   ],
   "source": [
    "chr=input(\"Enter characher\")\n",
    "match chr:\n",
    "    case \"A\"|\"a\"|\"E\"|\"e\"|\"I\"|\"i\"|\"O\"|\"o\"|\"U\"|\"u\":\n",
    "        print(\"You Entered Vowel Alphabet\")\n",
    "    case _:\n",
    "        print(\"You Entered Non Vowel Aplabet\")"
   ]
  },
  {
   "cell_type": "code",
   "execution_count": 10,
   "id": "354a170e-5d31-46c5-a8f8-a8a3d4f796da",
   "metadata": {},
   "outputs": [
    {
     "name": "stdout",
     "output_type": "stream",
     "text": [
      "Enter Number 0\n"
     ]
    },
    {
     "name": "stdout",
     "output_type": "stream",
     "text": [
      "ZERO ENTERED\n"
     ]
    }
   ],
   "source": [
    "no=int(input(\"Enter Number\"))\n",
    "match no:\n",
    "    case no if no>0:\n",
    "        print(\"POSITIVE NUMBER ENTERED\")\n",
    "    case no if no<0:\n",
    "        print(\"NEGAIVE NO ENTERED\")\n",
    "    case _:\n",
    "        print(\"ZERO ENTERED\")"
   ]
  },
  {
   "cell_type": "markdown",
   "id": "832c86c0-3a6e-487d-8450-5fcb29df625a",
   "metadata": {},
   "source": [
    "# DAY17 (FOR LOOP)"
   ]
  },
  {
   "cell_type": "code",
   "execution_count": 13,
   "id": "109e7795-2a9c-40ff-be11-3f63d50d90c4",
   "metadata": {},
   "outputs": [
    {
     "name": "stdout",
     "output_type": "stream",
     "text": [
      "1\n",
      "2\n",
      "3\n",
      "4\n",
      "5\n",
      "6\n",
      "7\n",
      "8\n",
      "9\n",
      "10\n"
     ]
    }
   ],
   "source": [
    "#In programming sometimes we need to perform some tasks repitatively for this purpose we use loops which helps us in performing tasks repitatively\n",
    "#if we want to print no from 1 to 10 and we started performing this task using print() function so it will take time and consume lots of lines of code \n",
    "#but in comparision if we use for loop for this tasks we can perform this task using only 2-3 lines of code\n",
    "#there are two main types of loops in python \n",
    "#1 for loop\n",
    "#2 while loop\n",
    "\n",
    "#printing no from 1 to 10 without loop\n",
    "print(1)\n",
    "print(2)\n",
    "print(3)\n",
    "print(4)\n",
    "print(5)\n",
    "print(6)\n",
    "print(7)\n",
    "print(8)\n",
    "print(9)\n",
    "print(10)"
   ]
  },
  {
   "cell_type": "code",
   "execution_count": 12,
   "id": "0100a933-4869-4eef-81ce-9411b2dcb48a",
   "metadata": {},
   "outputs": [
    {
     "name": "stdout",
     "output_type": "stream",
     "text": [
      "1\n",
      "2\n",
      "3\n",
      "4\n",
      "5\n",
      "6\n",
      "7\n",
      "8\n",
      "9\n",
      "10\n"
     ]
    }
   ],
   "source": [
    "#printing no from 1-10 using loop\n",
    "for i in range(1,11):\n",
    "    print(i)"
   ]
  },
  {
   "cell_type": "code",
   "execution_count": 14,
   "id": "1f96f96a-6e2d-4d6a-96aa-dcb6c2a181df",
   "metadata": {},
   "outputs": [
    {
     "name": "stdout",
     "output_type": "stream",
     "text": [
      "H\n",
      "u\n",
      "z\n",
      "a\n",
      "i\n",
      "f\n",
      "a\n"
     ]
    }
   ],
   "source": [
    "#We can also iterate over string \n",
    "name=\"Huzaifa\"\n",
    "for i in name:\n",
    "    print(i)"
   ]
  },
  {
   "cell_type": "code",
   "execution_count": 15,
   "id": "3d0cc57b-a742-4c76-8644-fd6d7c1b0d8d",
   "metadata": {},
   "outputs": [
    {
     "name": "stdout",
     "output_type": "stream",
     "text": [
      "mango\n",
      "apple\n",
      "melon\n"
     ]
    }
   ],
   "source": [
    "#iterating over list\n",
    "fruits=[\"mango\",\"apple\",\"melon\"]\n",
    "for fruit in fruits:\n",
    "    print(fruit)"
   ]
  },
  {
   "cell_type": "code",
   "execution_count": 16,
   "id": "25aca267-2f91-4d89-8b2f-4e54957825dd",
   "metadata": {},
   "outputs": [
    {
     "name": "stdout",
     "output_type": "stream",
     "text": [
      "mango\n",
      "m\n",
      "a\n",
      "n\n",
      "g\n",
      "o\n",
      "apple\n",
      "a\n",
      "p\n",
      "p\n",
      "l\n",
      "e\n",
      "melon\n",
      "m\n",
      "e\n",
      "l\n",
      "o\n",
      "n\n"
     ]
    }
   ],
   "source": [
    "#We can also add loop with in loop\n",
    "for fruit in fruits:\n",
    "    print(fruit)\n",
    "    for i in fruit:\n",
    "        print(i)"
   ]
  },
  {
   "cell_type": "code",
   "execution_count": 22,
   "id": "bbb7c3b0-5e83-49bf-89af-63149f016e32",
   "metadata": {},
   "outputs": [
    {
     "name": "stdout",
     "output_type": "stream",
     "text": [
      "h\n",
      "u\n",
      "z\n",
      "a\n",
      "a is entered 1 times\n",
      "i\n",
      "f\n",
      "a\n",
      "a is entered 2 times\n"
     ]
    }
   ],
   "source": [
    "#we can also use if inside the loop\n",
    "no=\"huzaifa\"\n",
    "j=0\n",
    "for i in no:\n",
    "    print(i)\n",
    "    if i==\"a\":\n",
    "        j+=1\n",
    "        print(f\"a is entered {j} times\")"
   ]
  },
  {
   "cell_type": "code",
   "execution_count": 24,
   "id": "5859e091-61a3-4173-a298-f6845face8e6",
   "metadata": {},
   "outputs": [
    {
     "name": "stdout",
     "output_type": "stream",
     "text": [
      "0\n",
      "2\n",
      "4\n",
      "6\n",
      "8\n"
     ]
    }
   ],
   "source": [
    "#there is a function range() which takes 3 parameters starting,ending,step here step is no of counts you want to skip\n",
    "#Step is basically an difference between the first number and last number it may be varied as per the user .\n",
    "for i in range(0,10,2):\n",
    "    print(i) "
   ]
  },
  {
   "cell_type": "markdown",
   "id": "66cfda99-5a2d-4753-be95-cc4660511dfa",
   "metadata": {},
   "source": [
    "# DAY18 (WHILE LOOP)"
   ]
  },
  {
   "cell_type": "code",
   "execution_count": 22,
   "id": "7640f85d-5da0-46d5-bd26-f6a343ce2e89",
   "metadata": {},
   "outputs": [
    {
     "name": "stdout",
     "output_type": "stream",
     "text": [
      "Using For loop\n",
      "0\n",
      "1\n",
      "2\n",
      "Using while loop\n",
      "0\n",
      "1\n",
      "2\n"
     ]
    }
   ],
   "source": [
    "#Same as for loop there is another loop used in python which is while loop \n",
    "#printinmg no 1-3 using for loop\n",
    "print(\"Using For loop\")\n",
    "for i in range(3):\n",
    "    print(i)\n",
    "print(\"Using while loop\")\n",
    "i=0\n",
    "while i<3:\n",
    "    print(i)\n",
    "    i=i+1\n",
    "#If we had given any wrong condtion in loop it may become an infinite loop means an loop that has no condtion to stop\n"
   ]
  },
  {
   "cell_type": "code",
   "execution_count": 8,
   "id": "5ce6ac98-78e1-409a-bfe5-5614ef592486",
   "metadata": {},
   "outputs": [
    {
     "name": "stdout",
     "output_type": "stream",
     "text": [
      "5\n",
      "4\n",
      "3\n",
      "2\n",
      "1\n"
     ]
    }
   ],
   "source": [
    "#Decrement loop\n",
    "i=5\n",
    "while i>0:\n",
    "    print(i)\n",
    "    i=i-1"
   ]
  },
  {
   "cell_type": "code",
   "execution_count": 21,
   "id": "e0b4aa29-a4c6-4087-81e1-1d92b23fd540",
   "metadata": {},
   "outputs": [
    {
     "name": "stdout",
     "output_type": "stream",
     "text": [
      "6\n",
      "*****NUMBER GUESSING GAME******\n",
      "You have 5 chances to gusess the number\n"
     ]
    },
    {
     "name": "stdin",
     "output_type": "stream",
     "text": [
      "This is your 1 Number chance 6\n"
     ]
    },
    {
     "name": "stdout",
     "output_type": "stream",
     "text": [
      "You Win\n"
     ]
    }
   ],
   "source": [
    "import random\n",
    "rand=random.randint(1,10)\n",
    "print(rand)\n",
    "print(\"*****NUMBER GUESSING GAME******\")\n",
    "print(\"You have 5 chances to gusess the number\")\n",
    "Try=1\n",
    "while Try<=5:\n",
    "    no=int(input(f\"This is your {Try} Number chance\"))\n",
    "    if no==rand:\n",
    "        print(\"You Win\")\n",
    "        break\n",
    "    else:\n",
    "        print(\"You lose\")\n",
    "    Try=Try+1"
   ]
  },
  {
   "cell_type": "code",
   "execution_count": 24,
   "id": "4f1c358a-a4e4-45d3-b512-c9811eb141b7",
   "metadata": {},
   "outputs": [
    {
     "name": "stdout",
     "output_type": "stream",
     "text": [
      "0\n",
      "1\n",
      "2\n",
      "3\n",
      "This is else\n"
     ]
    }
   ],
   "source": [
    "#We can also use else in while loop which will be executed in case conditions in while loop become false\n",
    "i=0\n",
    "while i<4:\n",
    "    print(i)\n",
    "    i=i+1\n",
    "else:\n",
    "    print(\"This is else\")"
   ]
  },
  {
   "cell_type": "markdown",
   "id": "024a5809-6286-4569-930b-8dc8f79574f3",
   "metadata": {},
   "source": [
    "# DAY19 (BREAK & CONTINUE STATEMENT)"
   ]
  },
  {
   "cell_type": "code",
   "execution_count": 28,
   "id": "4e88f46a-d577-4493-92bd-0d2fa3447621",
   "metadata": {},
   "outputs": [
    {
     "name": "stdout",
     "output_type": "stream",
     "text": [
      "0\n",
      "1\n",
      "2\n",
      "3\n",
      "4\n",
      "continue stattment\n",
      "0\n",
      "1\n",
      "2\n",
      "3\n",
      "4\n",
      "6\n",
      "7\n",
      "8\n",
      "9\n"
     ]
    }
   ],
   "source": [
    "#Sometimes while using loops we want to stop our loop after attaining specific condition,for this purpose we use break statement\n",
    "#In the same way sometime we want to skip any step while running loop then we use continue statement \n",
    "#These break & continue statement can be used in both for & while loop\n",
    "\n",
    "#Using break \n",
    "for i in range(10):\n",
    "    if i==5:\n",
    "        break\n",
    "    else:\n",
    "        print(i)\n",
    "#In the above code we have given condition that code should be run till 10 but it breaks after after getting i==5 due to if condition in the code\n",
    "\n",
    "#Using continue \n",
    "print(\"continue stattment\")\n",
    "for i in range(10):\n",
    "    if i==5:\n",
    "        continue\n",
    "    else:\n",
    "        print(i)\n",
    "#Using continue statement it skips step when value of i get to 5 and continue the loop after i values get 6 "
   ]
  },
  {
   "cell_type": "markdown",
   "id": "4987c3aa-a88f-4ac7-9046-7a399d944f22",
   "metadata": {},
   "source": [
    "# DAY20 (FUNCTIONS)"
   ]
  },
  {
   "cell_type": "code",
   "execution_count": 4,
   "id": "bca9e134-84ce-4837-b017-d839acf8e586",
   "metadata": {},
   "outputs": [
    {
     "name": "stdout",
     "output_type": "stream",
     "text": [
      "8\n"
     ]
    }
   ],
   "source": [
    "#Sometimes while writing the code we want some lines of code to be used in the multiple places in the program ,for this purpose we write functions\n",
    "#In functions we write the code just once and can be called whereever it will be needed in the program \n",
    "#For example we want add two variables at more than 10 places in our program for this purpose we can done this by  write the code \n",
    "#for adding two variables at 15 different places or we can write the function for adding the variable and call it when requried \n",
    "\n",
    "#function definition\n",
    "def add(a,b):\n",
    "#add is the name of the function \n",
    "#here 'a' & 'b' are the parameters means values functions will accept at the time of calling\n",
    "    print(a+b)\n",
    "\n",
    "#function calling \n",
    "add(3,5) #here 3 & 5 are the arguments\n",
    "\n",
    "#In some cases we want that we just define the fucntion and write the logic of the function in the some other time for this we can use keyword pass \n",
    "\n",
    "def oddEven(e):\n",
    "    pass #Now Error will not be raised when executing the program \n",
    "\n",
    "#In Python we have two types of functions \n",
    "#Built In functions : functions available in python to use like print(),range(),for(),min(),max() etc \n",
    "#User defined functions :functions written by user as per the needs of the program\n"
   ]
  },
  {
   "cell_type": "markdown",
   "id": "08952ef6-2b3b-4158-b862-6becfaeb3ccb",
   "metadata": {},
   "source": [
    "# DAY21 (FUNCTION ARGUMENTS)"
   ]
  },
  {
   "cell_type": "code",
   "execution_count": 15,
   "id": "8566277a-28dc-4117-85d9-d1a10acd2437",
   "metadata": {},
   "outputs": [
    {
     "name": "stdout",
     "output_type": "stream",
     "text": [
      "Multiplication is:12\n",
      "Multiplication is:27\n",
      "Multiplication is:16\n",
      "Multiplication is:33\n"
     ]
    }
   ],
   "source": [
    "#There are 4 types of arguments that we can pass to the functions \n",
    "\n",
    "#Default Argument passed at time of declaration \n",
    "def Mult(a=3,b=4):\n",
    "    print(F\"Multiplication is:{a*b}\")\n",
    "#As we have already provide values in the function declaration time so it did nt through any error\n",
    "#function calling \n",
    "Mult()\n",
    "#But if we passed value at the time of calling the function it will prioritize these values apart from default values passed\n",
    "Mult(3,9)\n",
    "Mult(4) #if we passed only one value at time of calling it will take first value from here and another default value \n",
    "Mult(b=11) #if want to pass second value and want that first value can be default value we can pass value by naming second arg name here b and pass value to that"
   ]
  },
  {
   "cell_type": "code",
   "execution_count": 9,
   "id": "5debfcb0-28f0-4b3a-a9e9-63e000d4f3b0",
   "metadata": {},
   "outputs": [
    {
     "name": "stdout",
     "output_type": "stream",
     "text": [
      "Name:Huzaifa\n"
     ]
    }
   ],
   "source": [
    "#Requrired Argument that need to passed at time of calling the function ,if not passed error will be raised\n",
    "def printName(n):\n",
    "    print(f\"Name:{n}\")\n",
    "\n",
    "printName(\"Huzaifa\")"
   ]
  },
  {
   "cell_type": "code",
   "execution_count": 17,
   "id": "7550b9a4-c6af-42f7-81d3-24cb746eb828",
   "metadata": {},
   "outputs": [
    {
     "name": "stdout",
     "output_type": "stream",
     "text": [
      "Subraction:4\n",
      "Subraction:-28\n"
     ]
    }
   ],
   "source": [
    "#Keyword Argument \n",
    "def Subract(a,b):\n",
    "    print(f\"Subraction:{a-b}\")\n",
    "Subract(9,5) #by Default it will consider first value as the value of a and second value as the value of b\n",
    "Subract(b=40,a=12) #if we pass the value by name of the parameter we dont need to care about the order like here we have given the value of b first and value of a after that "
   ]
  },
  {
   "cell_type": "code",
   "execution_count": 29,
   "id": "f2a28f23-76aa-478e-bdf9-c479ea7c357e",
   "metadata": {},
   "outputs": [
    {
     "name": "stdout",
     "output_type": "stream",
     "text": [
      "28\n"
     ]
    }
   ],
   "source": [
    "# Variable-length arguments:\n",
    "# Sometimes we may need to pass more arguments than those defined in the actual function. This can be done using variable-length arguments.\n",
    "def Sum(*num):\n",
    "    sum=0\n",
    "    for i in num:\n",
    "        sum=sum+i\n",
    "    print(sum)\n",
    "Sum(5,6,8,9)"
   ]
  },
  {
   "cell_type": "code",
   "execution_count": 37,
   "id": "e91f342c-1a14-4b7a-95ae-319d4f6305e8",
   "metadata": {},
   "outputs": [
    {
     "name": "stdout",
     "output_type": "stream",
     "text": [
      "625\n"
     ]
    }
   ],
   "source": [
    "#return \n",
    "def product(*n):\n",
    "    prod=1\n",
    "    for i in n:\n",
    "        prod=prod*i\n",
    "    return prod\n",
    "ans=product(5,5,5,5)\n",
    "print(ans)"
   ]
  },
  {
   "cell_type": "markdown",
   "id": "acbdfa30-941e-4628-b86c-6a6242cf2f3d",
   "metadata": {},
   "source": [
    "# DAY22 (LIST)"
   ]
  },
  {
   "cell_type": "code",
   "execution_count": 22,
   "id": "186f3d15-45b0-44c7-b400-88df48638b9e",
   "metadata": {},
   "outputs": [
    {
     "name": "stdout",
     "output_type": "stream",
     "text": [
      "<class 'list'>\n",
      "6\n",
      "34\n",
      "12\n",
      "True\n",
      "[1, 2, 3, 6]\n",
      "[1, 2, 3, 6, 4, 2, 9, 0, 12, 34, 55, 77]\n",
      "[1, 2, 3, 6]\n",
      "[1, 2, 3, 6]\n",
      "[1, 2, 3, 6, 4, 2, 9, 0, 12, 34, 55]\n",
      "[1, 3]\n",
      "[0, 1, 2, 3, 4, 5, 6, 7, 8, 9]\n",
      "[0, 2, 4, 6, 8]\n"
     ]
    }
   ],
   "source": [
    "#List are ordered collection of data stored in single variable .List items are separated by commas and enclosed b/w square brackets\n",
    "#List are muteable means they can be changed after creation \n",
    "\n",
    "l1=[1,2,3,6,4,2,9,0,12,34,55,77] #list of numbers\n",
    "print(type(l1)) #checking the type of list\n",
    "#List items can accessed by index same as string both negative and positive indexing can be used in list\n",
    "print(l1[3]) #accessing list item by positve indexing\n",
    "print(l1[-3]) #accessing list item by negative indexing\n",
    "\n",
    "#We can also create list which contain items of different data types \n",
    "mix_list=[1,5.9,\"Hello\",True]\n",
    "\n",
    "#length of list can be find by using len()\n",
    "print(len(l1))\n",
    "\n",
    "#using 'in' keyword to check if items in the list\n",
    "print(12 in l1) #return true or falso as per the condition\n",
    "\n",
    "#list slicing\n",
    "print(l1[0:4]) #return list having from index 0 to 3\n",
    "print(l1[0:]) #if we give start and dont give ending index the list will printed from starting index till the end\n",
    "print(l1[:4]) #if we give end index and dont give starting index the list will printed from starting index til the index no mentioned\n",
    "\n",
    "#Negative Slicing\n",
    "print(l1[-12:-8])\n",
    "\n",
    "#Using Positive and Negaive indexing \n",
    "print(l1[0:-1])\n",
    "\n",
    "#jump index\n",
    "print(l1[0:4:2]) # l1[starting index : ending index : no of steps to be skip]\n",
    "#In the above example list printed will be starting from 0 index till the 3rd index with skip one element of list \n",
    "# l1[0:4] -> [1,2,3,6] it will print elements from 0:3\n",
    "# l1[0:4:2] -> [1,3] it will print element from 0:3 and skip element while printing\n",
    "\n",
    "#List Comprehension\n",
    "#We can also generate list by loop\n",
    "l2=[i for i in range(10)]\n",
    "l3=[i for i in range(10) if i%2==0]\n",
    "print(l2)\n",
    "print(l3)"
   ]
  },
  {
   "cell_type": "code",
   "execution_count": null,
   "id": "f66873aa-cbb6-444f-bef6-2321d4daf293",
   "metadata": {},
   "outputs": [],
   "source": []
  }
 ],
 "metadata": {
  "kernelspec": {
   "display_name": "Python 3 (ipykernel)",
   "language": "python",
   "name": "python3"
  },
  "language_info": {
   "codemirror_mode": {
    "name": "ipython",
    "version": 3
   },
   "file_extension": ".py",
   "mimetype": "text/x-python",
   "name": "python",
   "nbconvert_exporter": "python",
   "pygments_lexer": "ipython3",
   "version": "3.11.7"
  }
 },
 "nbformat": 4,
 "nbformat_minor": 5
}
